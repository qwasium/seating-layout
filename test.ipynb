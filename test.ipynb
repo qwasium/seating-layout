{
 "cells": [
  {
   "cell_type": "code",
   "execution_count": 89,
   "id": "baaec930",
   "metadata": {},
   "outputs": [],
   "source": [
    "import os\n",
    "from pathlib import Path\n",
    "\n",
    "\n",
    "import yaml\n",
    "import pandas as pd\n",
    "import numpy as np\n",
    "import matplotlib.pyplot as plt\n",
    "from PIL import Image, ImageDraw, ImageFont\n",
    "\n",
    "HERE = Path(os.getcwd())\n",
    "HERE\n",
    "\n",
    "OUT_PATH = HERE / \"output\"\n",
    "if not OUT_PATH.exists():\n",
    "    OUT_PATH.mkdir(exist_ok=True)"
   ]
  },
  {
   "cell_type": "code",
   "execution_count": 121,
   "id": "a7461b03",
   "metadata": {},
   "outputs": [
    {
     "data": {
      "text/plain": [
       "{'title': '',\n",
       " 'effective_date': '',\n",
       " 'names_path': 'config/names.csv',\n",
       " 'layout_path': 'config/layout.csv',\n",
       " 'font_path': 'fonts/IPAexfont00401/ipaexg.ttf',\n",
       " 'output_path': 'output/seating.png',\n",
       " 'back_clr': 'white',\n",
       " 'student_desk': {'padding_x': 10,\n",
       "  'padding_y': 10,\n",
       "  'sz_x': 180,\n",
       "  'student_num': {'box_sz_y': 20,\n",
       "   'fill_clr': 'white',\n",
       "   'font_pt': 18,\n",
       "   'txt_clr': 'black'},\n",
       "  'kana': {'box_sz_y': 20,\n",
       "   'fill_clr': 'white',\n",
       "   'font_pt': 18,\n",
       "   'txt_clr': 'black'},\n",
       "  'kanji': {'box_sz_y': 30,\n",
       "   'fill_clr': 'white',\n",
       "   'font_pt': 27,\n",
       "   'txt_clr': 'black'}},\n",
       " 'teacher_desk': {'sz_x': 50,\n",
       "  'sz_y': 300,\n",
       "  'fill_clr': 'white',\n",
       "  'font_pt': 40,\n",
       "  'txt_clr': 'black'}}"
      ]
     },
     "execution_count": 121,
     "metadata": {},
     "output_type": "execute_result"
    }
   ],
   "source": [
    "with open(HERE / \"config\" / \"config.yaml\", 'r') as f:\n",
    "    config= yaml.safe_load(f)\n",
    "font_path = HERE / config[\"font_path\"]\n",
    "assert font_path.exists()\n",
    "config"
   ]
  },
  {
   "cell_type": "code",
   "execution_count": 123,
   "id": "39ecd5e4",
   "metadata": {},
   "outputs": [
    {
     "data": {
      "text/plain": [
       "20"
      ]
     },
     "execution_count": 123,
     "metadata": {},
     "output_type": "execute_result"
    }
   ],
   "source": [
    "config[\"student_desk\"][\"kana\"][\"box_sz_y\"]"
   ]
  },
  {
   "cell_type": "code",
   "execution_count": 142,
   "id": "b5b8ce3a",
   "metadata": {},
   "outputs": [
    {
     "data": {
      "application/vnd.microsoft.datawrangler.viewer.v0+json": {
       "columns": [
        {
         "name": "index",
         "rawType": "int64",
         "type": "integer"
        },
        {
         "name": "number",
         "rawType": "int64",
         "type": "integer"
        },
        {
         "name": "name",
         "rawType": "object",
         "type": "string"
        },
        {
         "name": "kana",
         "rawType": "object",
         "type": "string"
        },
        {
         "name": "group",
         "rawType": "object",
         "type": "string"
        }
       ],
       "ref": "85ee9e0d-73c4-4723-a177-8d40b5c485df",
       "rows": [
        [
         "0",
         "1",
         "安藤 光希",
         "あんどう こうき",
         "B"
        ],
        [
         "1",
         "2",
         "石田 晴香",
         "いしだ はるか",
         "B"
        ],
        [
         "2",
         "3",
         "井上 蓮斗",
         "いのうえ れんと",
         "A"
        ],
        [
         "3",
         "4",
         "上原 芽衣",
         "うえはら めい",
         "B"
        ],
        [
         "4",
         "5",
         "大久保 悠真",
         "おおくぼ ゆうま",
         "B"
        ],
        [
         "5",
         "6",
         "加藤 紗季",
         "かとう さき",
         "B"
        ],
        [
         "6",
         "7",
         "川口 翔",
         "かわぐち しょう",
         "B"
        ],
        [
         "7",
         "8",
         "北村 莉央",
         "きたむら りお",
         "B"
        ],
        [
         "8",
         "9",
         "小林 拓海",
         "こばやし たくみ",
         "B"
        ],
        [
         "9",
         "10",
         "斉藤 美月",
         "さいとう みづき",
         "A"
        ],
        [
         "10",
         "11",
         "佐々木 陽菜",
         "ささき はるな",
         "A"
        ],
        [
         "11",
         "12",
         "白石 颯太",
         "しらいし そうた",
         "B"
        ],
        [
         "12",
         "13",
         "杉山 愛",
         "すぎやま あい",
         "B"
        ],
        [
         "13",
         "14",
         "高橋 純",
         "たかはし じゅん",
         "B"
        ],
        [
         "14",
         "15",
         "竹内 美咲",
         "たけうち みさき",
         "B"
        ],
        [
         "15",
         "16",
         "田村 拓真",
         "たむら たくま",
         "B"
        ],
        [
         "16",
         "17",
         "千葉 結衣",
         "ちば ゆい",
         "B"
        ],
        [
         "17",
         "18",
         "土屋 遼",
         "つちや りょう",
         "B"
        ],
        [
         "18",
         "19",
         "中島 真央",
         "なかじま まお",
         "B"
        ],
        [
         "19",
         "20",
         "西村 杏",
         "にしむら あん",
         "A"
        ],
        [
         "20",
         "21",
         "野口 海翔",
         "のぐち かいと",
         "B"
        ],
        [
         "21",
         "22",
         "萩原 奈々",
         "はぎわら なな",
         "B"
        ],
        [
         "22",
         "23",
         "林 駿",
         "はやし しゅん",
         "B"
        ],
        [
         "23",
         "24",
         "平田 花音",
         "ひらた かのん",
         "B"
        ],
        [
         "24",
         "25",
         "藤本 玲奈",
         "ふじもと れいな",
         "B"
        ],
        [
         "25",
         "26",
         "本田 光",
         "ほんだ ひかる",
         "B"
        ],
        [
         "26",
         "27",
         "前田 翼",
         "まえだ つばさ",
         "B"
        ],
        [
         "27",
         "28",
         "松井 彩乃",
         "まつい あやの",
         "B"
        ],
        [
         "28",
         "29",
         "南 結月",
         "みなみ ゆづき",
         "B"
        ],
        [
         "29",
         "30",
         "森 遥",
         "もり はるか",
         "B"
        ],
        [
         "30",
         "31",
         "安田 樹",
         "やすだ いつき",
         "A"
        ],
        [
         "31",
         "32",
         "山口 蒼",
         "やまぐち あおい",
         "B"
        ],
        [
         "32",
         "33",
         "横山 琴音",
         "よこやま ことね",
         "B"
        ],
        [
         "33",
         "34",
         "吉田 奏",
         "よしだ かなで",
         "B"
        ],
        [
         "34",
         "35",
         "若松 優",
         "わかまつ ゆう",
         "B"
        ]
       ],
       "shape": {
        "columns": 4,
        "rows": 35
       }
      },
      "text/html": [
       "<div>\n",
       "<style scoped>\n",
       "    .dataframe tbody tr th:only-of-type {\n",
       "        vertical-align: middle;\n",
       "    }\n",
       "\n",
       "    .dataframe tbody tr th {\n",
       "        vertical-align: top;\n",
       "    }\n",
       "\n",
       "    .dataframe thead th {\n",
       "        text-align: right;\n",
       "    }\n",
       "</style>\n",
       "<table border=\"1\" class=\"dataframe\">\n",
       "  <thead>\n",
       "    <tr style=\"text-align: right;\">\n",
       "      <th></th>\n",
       "      <th>number</th>\n",
       "      <th>name</th>\n",
       "      <th>kana</th>\n",
       "      <th>group</th>\n",
       "    </tr>\n",
       "  </thead>\n",
       "  <tbody>\n",
       "    <tr>\n",
       "      <th>0</th>\n",
       "      <td>1</td>\n",
       "      <td>安藤 光希</td>\n",
       "      <td>あんどう こうき</td>\n",
       "      <td>B</td>\n",
       "    </tr>\n",
       "    <tr>\n",
       "      <th>1</th>\n",
       "      <td>2</td>\n",
       "      <td>石田 晴香</td>\n",
       "      <td>いしだ はるか</td>\n",
       "      <td>B</td>\n",
       "    </tr>\n",
       "    <tr>\n",
       "      <th>2</th>\n",
       "      <td>3</td>\n",
       "      <td>井上 蓮斗</td>\n",
       "      <td>いのうえ れんと</td>\n",
       "      <td>A</td>\n",
       "    </tr>\n",
       "    <tr>\n",
       "      <th>3</th>\n",
       "      <td>4</td>\n",
       "      <td>上原 芽衣</td>\n",
       "      <td>うえはら めい</td>\n",
       "      <td>B</td>\n",
       "    </tr>\n",
       "    <tr>\n",
       "      <th>4</th>\n",
       "      <td>5</td>\n",
       "      <td>大久保 悠真</td>\n",
       "      <td>おおくぼ ゆうま</td>\n",
       "      <td>B</td>\n",
       "    </tr>\n",
       "    <tr>\n",
       "      <th>5</th>\n",
       "      <td>6</td>\n",
       "      <td>加藤 紗季</td>\n",
       "      <td>かとう さき</td>\n",
       "      <td>B</td>\n",
       "    </tr>\n",
       "    <tr>\n",
       "      <th>6</th>\n",
       "      <td>7</td>\n",
       "      <td>川口 翔</td>\n",
       "      <td>かわぐち しょう</td>\n",
       "      <td>B</td>\n",
       "    </tr>\n",
       "    <tr>\n",
       "      <th>7</th>\n",
       "      <td>8</td>\n",
       "      <td>北村 莉央</td>\n",
       "      <td>きたむら りお</td>\n",
       "      <td>B</td>\n",
       "    </tr>\n",
       "    <tr>\n",
       "      <th>8</th>\n",
       "      <td>9</td>\n",
       "      <td>小林 拓海</td>\n",
       "      <td>こばやし たくみ</td>\n",
       "      <td>B</td>\n",
       "    </tr>\n",
       "    <tr>\n",
       "      <th>9</th>\n",
       "      <td>10</td>\n",
       "      <td>斉藤 美月</td>\n",
       "      <td>さいとう みづき</td>\n",
       "      <td>A</td>\n",
       "    </tr>\n",
       "    <tr>\n",
       "      <th>10</th>\n",
       "      <td>11</td>\n",
       "      <td>佐々木 陽菜</td>\n",
       "      <td>ささき はるな</td>\n",
       "      <td>A</td>\n",
       "    </tr>\n",
       "    <tr>\n",
       "      <th>11</th>\n",
       "      <td>12</td>\n",
       "      <td>白石 颯太</td>\n",
       "      <td>しらいし そうた</td>\n",
       "      <td>B</td>\n",
       "    </tr>\n",
       "    <tr>\n",
       "      <th>12</th>\n",
       "      <td>13</td>\n",
       "      <td>杉山 愛</td>\n",
       "      <td>すぎやま あい</td>\n",
       "      <td>B</td>\n",
       "    </tr>\n",
       "    <tr>\n",
       "      <th>13</th>\n",
       "      <td>14</td>\n",
       "      <td>高橋 純</td>\n",
       "      <td>たかはし じゅん</td>\n",
       "      <td>B</td>\n",
       "    </tr>\n",
       "    <tr>\n",
       "      <th>14</th>\n",
       "      <td>15</td>\n",
       "      <td>竹内 美咲</td>\n",
       "      <td>たけうち みさき</td>\n",
       "      <td>B</td>\n",
       "    </tr>\n",
       "    <tr>\n",
       "      <th>15</th>\n",
       "      <td>16</td>\n",
       "      <td>田村 拓真</td>\n",
       "      <td>たむら たくま</td>\n",
       "      <td>B</td>\n",
       "    </tr>\n",
       "    <tr>\n",
       "      <th>16</th>\n",
       "      <td>17</td>\n",
       "      <td>千葉 結衣</td>\n",
       "      <td>ちば ゆい</td>\n",
       "      <td>B</td>\n",
       "    </tr>\n",
       "    <tr>\n",
       "      <th>17</th>\n",
       "      <td>18</td>\n",
       "      <td>土屋 遼</td>\n",
       "      <td>つちや りょう</td>\n",
       "      <td>B</td>\n",
       "    </tr>\n",
       "    <tr>\n",
       "      <th>18</th>\n",
       "      <td>19</td>\n",
       "      <td>中島 真央</td>\n",
       "      <td>なかじま まお</td>\n",
       "      <td>B</td>\n",
       "    </tr>\n",
       "    <tr>\n",
       "      <th>19</th>\n",
       "      <td>20</td>\n",
       "      <td>西村 杏</td>\n",
       "      <td>にしむら あん</td>\n",
       "      <td>A</td>\n",
       "    </tr>\n",
       "    <tr>\n",
       "      <th>20</th>\n",
       "      <td>21</td>\n",
       "      <td>野口 海翔</td>\n",
       "      <td>のぐち かいと</td>\n",
       "      <td>B</td>\n",
       "    </tr>\n",
       "    <tr>\n",
       "      <th>21</th>\n",
       "      <td>22</td>\n",
       "      <td>萩原 奈々</td>\n",
       "      <td>はぎわら なな</td>\n",
       "      <td>B</td>\n",
       "    </tr>\n",
       "    <tr>\n",
       "      <th>22</th>\n",
       "      <td>23</td>\n",
       "      <td>林 駿</td>\n",
       "      <td>はやし しゅん</td>\n",
       "      <td>B</td>\n",
       "    </tr>\n",
       "    <tr>\n",
       "      <th>23</th>\n",
       "      <td>24</td>\n",
       "      <td>平田 花音</td>\n",
       "      <td>ひらた かのん</td>\n",
       "      <td>B</td>\n",
       "    </tr>\n",
       "    <tr>\n",
       "      <th>24</th>\n",
       "      <td>25</td>\n",
       "      <td>藤本 玲奈</td>\n",
       "      <td>ふじもと れいな</td>\n",
       "      <td>B</td>\n",
       "    </tr>\n",
       "    <tr>\n",
       "      <th>25</th>\n",
       "      <td>26</td>\n",
       "      <td>本田 光</td>\n",
       "      <td>ほんだ ひかる</td>\n",
       "      <td>B</td>\n",
       "    </tr>\n",
       "    <tr>\n",
       "      <th>26</th>\n",
       "      <td>27</td>\n",
       "      <td>前田 翼</td>\n",
       "      <td>まえだ つばさ</td>\n",
       "      <td>B</td>\n",
       "    </tr>\n",
       "    <tr>\n",
       "      <th>27</th>\n",
       "      <td>28</td>\n",
       "      <td>松井 彩乃</td>\n",
       "      <td>まつい あやの</td>\n",
       "      <td>B</td>\n",
       "    </tr>\n",
       "    <tr>\n",
       "      <th>28</th>\n",
       "      <td>29</td>\n",
       "      <td>南 結月</td>\n",
       "      <td>みなみ ゆづき</td>\n",
       "      <td>B</td>\n",
       "    </tr>\n",
       "    <tr>\n",
       "      <th>29</th>\n",
       "      <td>30</td>\n",
       "      <td>森 遥</td>\n",
       "      <td>もり はるか</td>\n",
       "      <td>B</td>\n",
       "    </tr>\n",
       "    <tr>\n",
       "      <th>30</th>\n",
       "      <td>31</td>\n",
       "      <td>安田 樹</td>\n",
       "      <td>やすだ いつき</td>\n",
       "      <td>A</td>\n",
       "    </tr>\n",
       "    <tr>\n",
       "      <th>31</th>\n",
       "      <td>32</td>\n",
       "      <td>山口 蒼</td>\n",
       "      <td>やまぐち あおい</td>\n",
       "      <td>B</td>\n",
       "    </tr>\n",
       "    <tr>\n",
       "      <th>32</th>\n",
       "      <td>33</td>\n",
       "      <td>横山 琴音</td>\n",
       "      <td>よこやま ことね</td>\n",
       "      <td>B</td>\n",
       "    </tr>\n",
       "    <tr>\n",
       "      <th>33</th>\n",
       "      <td>34</td>\n",
       "      <td>吉田 奏</td>\n",
       "      <td>よしだ かなで</td>\n",
       "      <td>B</td>\n",
       "    </tr>\n",
       "    <tr>\n",
       "      <th>34</th>\n",
       "      <td>35</td>\n",
       "      <td>若松 優</td>\n",
       "      <td>わかまつ ゆう</td>\n",
       "      <td>B</td>\n",
       "    </tr>\n",
       "  </tbody>\n",
       "</table>\n",
       "</div>"
      ],
      "text/plain": [
       "    number    name      kana group\n",
       "0        1   安藤 光希  あんどう こうき     B\n",
       "1        2   石田 晴香   いしだ はるか     B\n",
       "2        3   井上 蓮斗  いのうえ れんと     A\n",
       "3        4   上原 芽衣   うえはら めい     B\n",
       "4        5  大久保 悠真  おおくぼ ゆうま     B\n",
       "5        6   加藤 紗季    かとう さき     B\n",
       "6        7    川口 翔  かわぐち しょう     B\n",
       "7        8   北村 莉央   きたむら りお     B\n",
       "8        9   小林 拓海  こばやし たくみ     B\n",
       "9       10   斉藤 美月  さいとう みづき     A\n",
       "10      11  佐々木 陽菜   ささき はるな     A\n",
       "11      12   白石 颯太  しらいし そうた     B\n",
       "12      13    杉山 愛   すぎやま あい     B\n",
       "13      14    高橋 純  たかはし じゅん     B\n",
       "14      15   竹内 美咲  たけうち みさき     B\n",
       "15      16   田村 拓真   たむら たくま     B\n",
       "16      17   千葉 結衣     ちば ゆい     B\n",
       "17      18    土屋 遼   つちや りょう     B\n",
       "18      19   中島 真央   なかじま まお     B\n",
       "19      20    西村 杏   にしむら あん     A\n",
       "20      21   野口 海翔   のぐち かいと     B\n",
       "21      22   萩原 奈々   はぎわら なな     B\n",
       "22      23     林 駿   はやし しゅん     B\n",
       "23      24   平田 花音   ひらた かのん     B\n",
       "24      25   藤本 玲奈  ふじもと れいな     B\n",
       "25      26    本田 光   ほんだ ひかる     B\n",
       "26      27    前田 翼   まえだ つばさ     B\n",
       "27      28   松井 彩乃   まつい あやの     B\n",
       "28      29    南 結月   みなみ ゆづき     B\n",
       "29      30     森 遥    もり はるか     B\n",
       "30      31    安田 樹   やすだ いつき     A\n",
       "31      32    山口 蒼  やまぐち あおい     B\n",
       "32      33   横山 琴音  よこやま ことね     B\n",
       "33      34    吉田 奏   よしだ かなで     B\n",
       "34      35    若松 優   わかまつ ゆう     B"
      ]
     },
     "execution_count": 142,
     "metadata": {},
     "output_type": "execute_result"
    }
   ],
   "source": [
    "names_df = pd.read_csv(\n",
    "    Path(HERE) / \"config\" / \"names.csv\", header=0\n",
    ")\n",
    "names_df"
   ]
  },
  {
   "cell_type": "code",
   "execution_count": 143,
   "id": "96cb6e7d",
   "metadata": {},
   "outputs": [
    {
     "data": {
      "application/vnd.microsoft.datawrangler.viewer.v0+json": {
       "columns": [
        {
         "name": "0",
         "rawType": "int64",
         "type": "integer"
        },
        {
         "name": "1",
         "rawType": "object",
         "type": "string"
        },
        {
         "name": "2",
         "rawType": "object",
         "type": "string"
        },
        {
         "name": "3",
         "rawType": "object",
         "type": "string"
        },
        {
         "name": "4",
         "rawType": "object",
         "type": "string"
        },
        {
         "name": "5",
         "rawType": "object",
         "type": "string"
        },
        {
         "name": "6",
         "rawType": "object",
         "type": "string"
        },
        {
         "name": "7",
         "rawType": "object",
         "type": "string"
        }
       ],
       "ref": "1df5ae10-198f-4a74-b077-b72d22bbc83b",
       "rows": [
        [
         "1",
         "e",
         "A",
         "A",
         "A",
         "A",
         "A",
         "e"
        ],
        [
         "2",
         "B",
         "B",
         "B",
         "B",
         "B",
         "B",
         "B"
        ],
        [
         "3",
         "B",
         "B",
         "B",
         "B",
         "B",
         "B",
         "B"
        ],
        [
         "4",
         "B",
         "B",
         "B",
         "B",
         "B",
         "B",
         "B"
        ],
        [
         "5",
         "B",
         "B",
         "B",
         "B",
         "B",
         "B",
         "B"
        ],
        [
         "6",
         "B",
         "B",
         "x",
         "x",
         "x",
         "x",
         "x"
        ]
       ],
       "shape": {
        "columns": 7,
        "rows": 6
       }
      },
      "text/html": [
       "<div>\n",
       "<style scoped>\n",
       "    .dataframe tbody tr th:only-of-type {\n",
       "        vertical-align: middle;\n",
       "    }\n",
       "\n",
       "    .dataframe tbody tr th {\n",
       "        vertical-align: top;\n",
       "    }\n",
       "\n",
       "    .dataframe thead th {\n",
       "        text-align: right;\n",
       "    }\n",
       "</style>\n",
       "<table border=\"1\" class=\"dataframe\">\n",
       "  <thead>\n",
       "    <tr style=\"text-align: right;\">\n",
       "      <th></th>\n",
       "      <th>1</th>\n",
       "      <th>2</th>\n",
       "      <th>3</th>\n",
       "      <th>4</th>\n",
       "      <th>5</th>\n",
       "      <th>6</th>\n",
       "      <th>7</th>\n",
       "    </tr>\n",
       "    <tr>\n",
       "      <th>0</th>\n",
       "      <th></th>\n",
       "      <th></th>\n",
       "      <th></th>\n",
       "      <th></th>\n",
       "      <th></th>\n",
       "      <th></th>\n",
       "      <th></th>\n",
       "    </tr>\n",
       "  </thead>\n",
       "  <tbody>\n",
       "    <tr>\n",
       "      <th>1</th>\n",
       "      <td>e</td>\n",
       "      <td>A</td>\n",
       "      <td>A</td>\n",
       "      <td>A</td>\n",
       "      <td>A</td>\n",
       "      <td>A</td>\n",
       "      <td>e</td>\n",
       "    </tr>\n",
       "    <tr>\n",
       "      <th>2</th>\n",
       "      <td>B</td>\n",
       "      <td>B</td>\n",
       "      <td>B</td>\n",
       "      <td>B</td>\n",
       "      <td>B</td>\n",
       "      <td>B</td>\n",
       "      <td>B</td>\n",
       "    </tr>\n",
       "    <tr>\n",
       "      <th>3</th>\n",
       "      <td>B</td>\n",
       "      <td>B</td>\n",
       "      <td>B</td>\n",
       "      <td>B</td>\n",
       "      <td>B</td>\n",
       "      <td>B</td>\n",
       "      <td>B</td>\n",
       "    </tr>\n",
       "    <tr>\n",
       "      <th>4</th>\n",
       "      <td>B</td>\n",
       "      <td>B</td>\n",
       "      <td>B</td>\n",
       "      <td>B</td>\n",
       "      <td>B</td>\n",
       "      <td>B</td>\n",
       "      <td>B</td>\n",
       "    </tr>\n",
       "    <tr>\n",
       "      <th>5</th>\n",
       "      <td>B</td>\n",
       "      <td>B</td>\n",
       "      <td>B</td>\n",
       "      <td>B</td>\n",
       "      <td>B</td>\n",
       "      <td>B</td>\n",
       "      <td>B</td>\n",
       "    </tr>\n",
       "    <tr>\n",
       "      <th>6</th>\n",
       "      <td>B</td>\n",
       "      <td>B</td>\n",
       "      <td>x</td>\n",
       "      <td>x</td>\n",
       "      <td>x</td>\n",
       "      <td>x</td>\n",
       "      <td>x</td>\n",
       "    </tr>\n",
       "  </tbody>\n",
       "</table>\n",
       "</div>"
      ],
      "text/plain": [
       "   1  2  3  4  5  6  7\n",
       "0                     \n",
       "1  e  A  A  A  A  A  e\n",
       "2  B  B  B  B  B  B  B\n",
       "3  B  B  B  B  B  B  B\n",
       "4  B  B  B  B  B  B  B\n",
       "5  B  B  B  B  B  B  B\n",
       "6  B  B  x  x  x  x  x"
      ]
     },
     "execution_count": 143,
     "metadata": {},
     "output_type": "execute_result"
    }
   ],
   "source": [
    "layout_df = pd.read_csv(\n",
    "    Path(HERE) / \"config\" / \"layout.csv\", header=0, index_col=0\n",
    ")\n",
    "layout_df"
   ]
  },
  {
   "cell_type": "code",
   "execution_count": 144,
   "id": "e375a730",
   "metadata": {},
   "outputs": [
    {
     "data": {
      "text/plain": [
       "array(['B', 'A'], dtype=object)"
      ]
     },
     "execution_count": 144,
     "metadata": {},
     "output_type": "execute_result"
    }
   ],
   "source": [
    "groups = names_df[\"group\"].unique()\n",
    "assert \"x\" not in groups\n",
    "assert \"e\" not in groups\n",
    "groups"
   ]
  },
  {
   "cell_type": "code",
   "execution_count": 145,
   "id": "627ea4d3",
   "metadata": {},
   "outputs": [
    {
     "data": {
      "text/plain": [
       "array(['B', 'A', 'e', 'x'], dtype=object)"
      ]
     },
     "execution_count": 145,
     "metadata": {},
     "output_type": "execute_result"
    }
   ],
   "source": [
    "np.append(groups, [\"e\", \"x\"])"
   ]
  },
  {
   "cell_type": "code",
   "execution_count": 146,
   "id": "a8701c98",
   "metadata": {},
   "outputs": [
    {
     "data": {
      "application/vnd.microsoft.datawrangler.viewer.v0+json": {
       "columns": [
        {
         "name": "index",
         "rawType": "int64",
         "type": "integer"
        },
        {
         "name": "number",
         "rawType": "int64",
         "type": "integer"
        },
        {
         "name": "name",
         "rawType": "object",
         "type": "string"
        },
        {
         "name": "kana",
         "rawType": "object",
         "type": "string"
        },
        {
         "name": "group",
         "rawType": "object",
         "type": "string"
        }
       ],
       "ref": "8c5b58b5-625c-4328-9f3a-d686f8e805f9",
       "rows": [
        [
         "2",
         "3",
         "井上 蓮斗",
         "いのうえ れんと",
         "A"
        ],
        [
         "9",
         "10",
         "斉藤 美月",
         "さいとう みづき",
         "A"
        ],
        [
         "10",
         "11",
         "佐々木 陽菜",
         "ささき はるな",
         "A"
        ],
        [
         "19",
         "20",
         "西村 杏",
         "にしむら あん",
         "A"
        ],
        [
         "30",
         "31",
         "安田 樹",
         "やすだ いつき",
         "A"
        ]
       ],
       "shape": {
        "columns": 4,
        "rows": 5
       }
      },
      "text/html": [
       "<div>\n",
       "<style scoped>\n",
       "    .dataframe tbody tr th:only-of-type {\n",
       "        vertical-align: middle;\n",
       "    }\n",
       "\n",
       "    .dataframe tbody tr th {\n",
       "        vertical-align: top;\n",
       "    }\n",
       "\n",
       "    .dataframe thead th {\n",
       "        text-align: right;\n",
       "    }\n",
       "</style>\n",
       "<table border=\"1\" class=\"dataframe\">\n",
       "  <thead>\n",
       "    <tr style=\"text-align: right;\">\n",
       "      <th></th>\n",
       "      <th>number</th>\n",
       "      <th>name</th>\n",
       "      <th>kana</th>\n",
       "      <th>group</th>\n",
       "    </tr>\n",
       "  </thead>\n",
       "  <tbody>\n",
       "    <tr>\n",
       "      <th>2</th>\n",
       "      <td>3</td>\n",
       "      <td>井上 蓮斗</td>\n",
       "      <td>いのうえ れんと</td>\n",
       "      <td>A</td>\n",
       "    </tr>\n",
       "    <tr>\n",
       "      <th>9</th>\n",
       "      <td>10</td>\n",
       "      <td>斉藤 美月</td>\n",
       "      <td>さいとう みづき</td>\n",
       "      <td>A</td>\n",
       "    </tr>\n",
       "    <tr>\n",
       "      <th>10</th>\n",
       "      <td>11</td>\n",
       "      <td>佐々木 陽菜</td>\n",
       "      <td>ささき はるな</td>\n",
       "      <td>A</td>\n",
       "    </tr>\n",
       "    <tr>\n",
       "      <th>19</th>\n",
       "      <td>20</td>\n",
       "      <td>西村 杏</td>\n",
       "      <td>にしむら あん</td>\n",
       "      <td>A</td>\n",
       "    </tr>\n",
       "    <tr>\n",
       "      <th>30</th>\n",
       "      <td>31</td>\n",
       "      <td>安田 樹</td>\n",
       "      <td>やすだ いつき</td>\n",
       "      <td>A</td>\n",
       "    </tr>\n",
       "  </tbody>\n",
       "</table>\n",
       "</div>"
      ],
      "text/plain": [
       "    number    name      kana group\n",
       "2        3   井上 蓮斗  いのうえ れんと     A\n",
       "9       10   斉藤 美月  さいとう みづき     A\n",
       "10      11  佐々木 陽菜   ささき はるな     A\n",
       "19      20    西村 杏   にしむら あん     A\n",
       "30      31    安田 樹   やすだ いつき     A"
      ]
     },
     "execution_count": 146,
     "metadata": {},
     "output_type": "execute_result"
    }
   ],
   "source": [
    "names_df[names_df[\"group\"]==\"A\"]"
   ]
  },
  {
   "cell_type": "code",
   "execution_count": 96,
   "id": "2059c3c4",
   "metadata": {},
   "outputs": [
    {
     "data": {
      "text/plain": [
       "30"
      ]
     },
     "execution_count": 96,
     "metadata": {},
     "output_type": "execute_result"
    }
   ],
   "source": [
    "len(names_df[names_df[\"group\"]==\"B\"])"
   ]
  },
  {
   "cell_type": "code",
   "execution_count": null,
   "id": "14f5f118",
   "metadata": {},
   "outputs": [],
   "source": []
  },
  {
   "cell_type": "code",
   "execution_count": 108,
   "id": "8b8aa714",
   "metadata": {},
   "outputs": [
    {
     "data": {
      "text/plain": [
       "array([['e', 'A', 'A', 'A', 'A', 'A', 'e'],\n",
       "       ['B', 'B', 'B', 'B', 'B', 'B', 'B'],\n",
       "       ['B', 'B', 'B', 'B', 'B', 'B', 'B'],\n",
       "       ['B', 'B', 'B', 'B', 'B', 'B', 'B'],\n",
       "       ['B', 'B', 'B', 'B', 'B', 'B', 'B'],\n",
       "       ['B', 'B', 'x', 'x', 'x', 'x', 'x']], dtype=object)"
      ]
     },
     "execution_count": 108,
     "metadata": {},
     "output_type": "execute_result"
    }
   ],
   "source": [
    "layout_np = layout_df.to_numpy()\n",
    "layout_np"
   ]
  },
  {
   "cell_type": "code",
   "execution_count": 151,
   "id": "25e91cf4",
   "metadata": {},
   "outputs": [
    {
     "data": {
      "text/plain": [
       "array(['e', 'A', 'A', 'A', 'A', 'A', 'e', 'B', 'B', 'B', 'B', 'B', 'B',\n",
       "       'B', 'B', 'B', 'B', 'B', 'B', 'B', 'B', 'B', 'B', 'B', 'B', 'B',\n",
       "       'B', 'B', 'B', 'B', 'B', 'B', 'B', 'B', 'B', 'B', 'B', 'x', 'x',\n",
       "       'x', 'x', 'x'], dtype=object)"
      ]
     },
     "execution_count": 151,
     "metadata": {},
     "output_type": "execute_result"
    }
   ],
   "source": [
    "layout_np.flatten(order=\"C\")"
   ]
  },
  {
   "cell_type": "code",
   "execution_count": 161,
   "id": "7ec75b85",
   "metadata": {},
   "outputs": [
    {
     "data": {
      "text/plain": [
       "array([1, 2, 3, 4, 5, 6, 1, 2, 3, 4, 5, 6, 1, 2, 3, 4, 5, 6, 1, 2, 3, 4,\n",
       "       5, 6, 1, 2, 3, 4, 5, 6, 1, 2, 3, 4, 5, 6, 1, 2, 3, 4, 5, 6])"
      ]
     },
     "execution_count": 161,
     "metadata": {},
     "output_type": "execute_result"
    }
   ],
   "source": [
    "np.tile(np.arange(1, layout_np.shape[0]+1), layout_np.shape[1])"
   ]
  },
  {
   "cell_type": "code",
   "execution_count": 162,
   "id": "fa7e5e2b",
   "metadata": {},
   "outputs": [
    {
     "data": {
      "text/plain": [
       "array([1, 1, 1, 1, 1, 1, 2, 2, 2, 2, 2, 2, 3, 3, 3, 3, 3, 3, 4, 4, 4, 4,\n",
       "       4, 4, 5, 5, 5, 5, 5, 5, 6, 6, 6, 6, 6, 6, 7, 7, 7, 7, 7, 7])"
      ]
     },
     "execution_count": 162,
     "metadata": {},
     "output_type": "execute_result"
    }
   ],
   "source": [
    "np.arange(1, layout_np.shape[1] + 1).repeat(layout_np.shape[0])"
   ]
  },
  {
   "cell_type": "code",
   "execution_count": 150,
   "id": "2a2b3077",
   "metadata": {},
   "outputs": [
    {
     "data": {
      "text/plain": [
       "array(['e', 'B', 'B', 'B', 'B', 'B', 'A', 'B', 'B', 'B', 'B', 'B', 'A',\n",
       "       'B', 'B', 'B', 'B', 'x', 'A', 'B', 'B', 'B', 'B', 'x', 'A', 'B',\n",
       "       'B', 'B', 'B', 'x', 'A', 'B', 'B', 'B', 'B', 'x', 'e', 'B', 'B',\n",
       "       'B', 'B', 'x'], dtype=object)"
      ]
     },
     "execution_count": 150,
     "metadata": {},
     "output_type": "execute_result"
    }
   ],
   "source": [
    "layout_np.flatten(order=\"F\")"
   ]
  },
  {
   "cell_type": "code",
   "execution_count": 164,
   "id": "6b09dbe4",
   "metadata": {},
   "outputs": [
    {
     "data": {
      "text/plain": [
       "array([1, 2, 3, 4, 5, 6, 7, 1, 2, 3, 4, 5, 6, 7, 1, 2, 3, 4, 5, 6, 7, 1,\n",
       "       2, 3, 4, 5, 6, 7, 1, 2, 3, 4, 5, 6, 7, 1, 2, 3, 4, 5, 6, 7])"
      ]
     },
     "execution_count": 164,
     "metadata": {},
     "output_type": "execute_result"
    }
   ],
   "source": [
    "np.tile(np.arange(1, layout_np.shape[1]+1), layout_np.shape[0])"
   ]
  },
  {
   "cell_type": "code",
   "execution_count": 163,
   "id": "931bff81",
   "metadata": {},
   "outputs": [
    {
     "data": {
      "text/plain": [
       "array([1, 1, 1, 1, 1, 1, 1, 2, 2, 2, 2, 2, 2, 2, 3, 3, 3, 3, 3, 3, 3, 4,\n",
       "       4, 4, 4, 4, 4, 4, 5, 5, 5, 5, 5, 5, 5, 6, 6, 6, 6, 6, 6, 6])"
      ]
     },
     "execution_count": 163,
     "metadata": {},
     "output_type": "execute_result"
    }
   ],
   "source": [
    "np.arange(1, layout_np.shape[0] + 1).repeat(layout_np.shape[1])"
   ]
  },
  {
   "cell_type": "code",
   "execution_count": 109,
   "id": "8ab3053b",
   "metadata": {},
   "outputs": [
    {
     "data": {
      "text/plain": [
       "(array(['A', 'B', 'e', 'x'], dtype=object), array([ 5, 30,  2,  5]))"
      ]
     },
     "execution_count": 109,
     "metadata": {},
     "output_type": "execute_result"
    }
   ],
   "source": [
    "grps, cnt = np.unique(layout_np, return_counts=True)\n",
    "grps, cnt"
   ]
  },
  {
   "cell_type": "code",
   "execution_count": 140,
   "id": "f59670d0",
   "metadata": {},
   "outputs": [
    {
     "data": {
      "text/plain": [
       "array([12,  8, 25, 16, 22,  7, 23, 11,  5, 15, 26, 30, 14, 21, 10, 28, 27,\n",
       "        1, 13, 20, 17,  4, 24,  3, 18,  2, 29,  6,  9, 19])"
      ]
     },
     "execution_count": 140,
     "metadata": {},
     "output_type": "execute_result"
    }
   ],
   "source": [
    "hoge = np.arange(1, cnt[1]+1)\n",
    "np.random.shuffle(hoge)\n",
    "hoge"
   ]
  },
  {
   "cell_type": "code",
   "execution_count": 136,
   "id": "eabaf3ac",
   "metadata": {},
   "outputs": [
    {
     "data": {
      "text/plain": [
       "array(['A', 'B', 'e', 'x'], dtype=object)"
      ]
     },
     "execution_count": 136,
     "metadata": {},
     "output_type": "execute_result"
    }
   ],
   "source": [
    "np.sort(grps)"
   ]
  },
  {
   "cell_type": "code",
   "execution_count": 118,
   "id": "4d57f567",
   "metadata": {},
   "outputs": [
    {
     "data": {
      "text/plain": [
       "array(['A', 'B', 'e', 'x'], dtype=object)"
      ]
     },
     "execution_count": 118,
     "metadata": {},
     "output_type": "execute_result"
    }
   ],
   "source": [
    "np.sort(np.append(groups, [\"e\", \"x\"]))"
   ]
  },
  {
   "cell_type": "code",
   "execution_count": 148,
   "id": "8fe3e0bf",
   "metadata": {},
   "outputs": [
    {
     "name": "stdout",
     "output_type": "stream",
     "text": [
      "0\n",
      "安藤 光希\n",
      "1\n",
      "石田 晴香\n",
      "2\n",
      "井上 蓮斗\n",
      "3\n",
      "上原 芽衣\n",
      "4\n",
      "大久保 悠真\n",
      "5\n",
      "加藤 紗季\n",
      "6\n",
      "川口 翔\n",
      "7\n",
      "北村 莉央\n",
      "8\n",
      "小林 拓海\n",
      "9\n",
      "斉藤 美月\n",
      "10\n",
      "佐々木 陽菜\n",
      "11\n",
      "白石 颯太\n",
      "12\n",
      "杉山 愛\n",
      "13\n",
      "高橋 純\n",
      "14\n",
      "竹内 美咲\n",
      "15\n",
      "田村 拓真\n",
      "16\n",
      "千葉 結衣\n",
      "17\n",
      "土屋 遼\n",
      "18\n",
      "中島 真央\n",
      "19\n",
      "西村 杏\n",
      "20\n",
      "野口 海翔\n",
      "21\n",
      "萩原 奈々\n",
      "22\n",
      "林 駿\n",
      "23\n",
      "平田 花音\n",
      "24\n",
      "藤本 玲奈\n",
      "25\n",
      "本田 光\n",
      "26\n",
      "前田 翼\n",
      "27\n",
      "松井 彩乃\n",
      "28\n",
      "南 結月\n",
      "29\n",
      "森 遥\n",
      "30\n",
      "安田 樹\n",
      "31\n",
      "山口 蒼\n",
      "32\n",
      "横山 琴音\n",
      "33\n",
      "吉田 奏\n",
      "34\n",
      "若松 優\n"
     ]
    }
   ],
   "source": [
    "for i, row in names_df.iterrows():\n",
    "    print(i)\n",
    "    print(row[\"name\"])"
   ]
  },
  {
   "cell_type": "code",
   "execution_count": 110,
   "id": "aab75bc0",
   "metadata": {},
   "outputs": [
    {
     "data": {
      "text/plain": [
       "False"
      ]
     },
     "execution_count": 110,
     "metadata": {},
     "output_type": "execute_result"
    }
   ],
   "source": [
    "np.array_equal(grps, np.append(groups, [\"e\", \"x\"]))"
   ]
  },
  {
   "cell_type": "code",
   "execution_count": 111,
   "id": "804e71e0",
   "metadata": {},
   "outputs": [
    {
     "data": {
      "text/plain": [
       "array([ True,  True, False,  True])"
      ]
     },
     "execution_count": 111,
     "metadata": {},
     "output_type": "execute_result"
    }
   ],
   "source": [
    "grps!='e'"
   ]
  },
  {
   "cell_type": "code",
   "execution_count": 112,
   "id": "f2eeb120",
   "metadata": {},
   "outputs": [
    {
     "data": {
      "text/plain": [
       "array([[False, False, False, False, False, False, False],\n",
       "       [False, False, False, False, False, False, False],\n",
       "       [False, False, False, False, False, False, False],\n",
       "       [False, False, False, False, False, False, False],\n",
       "       [False, False, False, False, False, False, False],\n",
       "       [False, False,  True,  True,  True,  True,  True]])"
      ]
     },
     "execution_count": 112,
     "metadata": {},
     "output_type": "execute_result"
    }
   ],
   "source": [
    "layout_np==\"x\""
   ]
  },
  {
   "cell_type": "code",
   "execution_count": null,
   "id": "8e3fac21",
   "metadata": {},
   "outputs": [],
   "source": []
  },
  {
   "cell_type": "code",
   "execution_count": 102,
   "id": "9c606aca",
   "metadata": {},
   "outputs": [
    {
     "data": {
      "text/plain": [
       "array([[False, False, False, False, False, False, False],\n",
       "       [False, False, False, False, False, False, False],\n",
       "       [False, False, False, False, False, False, False],\n",
       "       [False, False, False, False, False, False, False],\n",
       "       [False, False, False, False, False, False, False],\n",
       "       [False, False,  True,  True,  True,  True,  True]])"
      ]
     },
     "execution_count": 102,
     "metadata": {},
     "output_type": "execute_result"
    }
   ],
   "source": [
    "layout_np==\"e\""
   ]
  },
  {
   "cell_type": "code",
   "execution_count": 103,
   "id": "2e367858",
   "metadata": {},
   "outputs": [
    {
     "data": {
      "application/vnd.microsoft.datawrangler.viewer.v0+json": {
       "columns": [
        {
         "name": "index",
         "rawType": "int64",
         "type": "integer"
        },
        {
         "name": "0",
         "rawType": "object",
         "type": "string"
        }
       ],
       "ref": "31ce7487-81da-4b87-8e79-f3182c75181c",
       "rows": [
        [
         "0",
         "x"
        ],
        [
         "1",
         "A"
        ],
        [
         "2",
         "A"
        ],
        [
         "3",
         "A"
        ],
        [
         "4",
         "A"
        ],
        [
         "5",
         "A"
        ],
        [
         "6",
         "x"
        ],
        [
         "7",
         "B"
        ],
        [
         "8",
         "B"
        ],
        [
         "9",
         "B"
        ],
        [
         "10",
         "B"
        ],
        [
         "11",
         "B"
        ],
        [
         "12",
         "B"
        ],
        [
         "13",
         "B"
        ],
        [
         "14",
         "B"
        ],
        [
         "15",
         "B"
        ],
        [
         "16",
         "B"
        ],
        [
         "17",
         "B"
        ],
        [
         "18",
         "B"
        ],
        [
         "19",
         "B"
        ],
        [
         "20",
         "B"
        ],
        [
         "21",
         "B"
        ],
        [
         "22",
         "B"
        ],
        [
         "23",
         "B"
        ],
        [
         "24",
         "B"
        ],
        [
         "25",
         "B"
        ],
        [
         "26",
         "B"
        ],
        [
         "27",
         "B"
        ],
        [
         "28",
         "B"
        ],
        [
         "29",
         "B"
        ],
        [
         "30",
         "B"
        ],
        [
         "31",
         "B"
        ],
        [
         "32",
         "B"
        ],
        [
         "33",
         "B"
        ],
        [
         "34",
         "B"
        ],
        [
         "35",
         "B"
        ],
        [
         "36",
         "B"
        ],
        [
         "37",
         "e"
        ],
        [
         "38",
         "e"
        ],
        [
         "39",
         "e"
        ],
        [
         "40",
         "e"
        ],
        [
         "41",
         "e"
        ]
       ],
       "shape": {
        "columns": 1,
        "rows": 42
       }
      },
      "text/html": [
       "<div>\n",
       "<style scoped>\n",
       "    .dataframe tbody tr th:only-of-type {\n",
       "        vertical-align: middle;\n",
       "    }\n",
       "\n",
       "    .dataframe tbody tr th {\n",
       "        vertical-align: top;\n",
       "    }\n",
       "\n",
       "    .dataframe thead th {\n",
       "        text-align: right;\n",
       "    }\n",
       "</style>\n",
       "<table border=\"1\" class=\"dataframe\">\n",
       "  <thead>\n",
       "    <tr style=\"text-align: right;\">\n",
       "      <th></th>\n",
       "      <th>0</th>\n",
       "    </tr>\n",
       "  </thead>\n",
       "  <tbody>\n",
       "    <tr>\n",
       "      <th>0</th>\n",
       "      <td>x</td>\n",
       "    </tr>\n",
       "    <tr>\n",
       "      <th>1</th>\n",
       "      <td>A</td>\n",
       "    </tr>\n",
       "    <tr>\n",
       "      <th>2</th>\n",
       "      <td>A</td>\n",
       "    </tr>\n",
       "    <tr>\n",
       "      <th>3</th>\n",
       "      <td>A</td>\n",
       "    </tr>\n",
       "    <tr>\n",
       "      <th>4</th>\n",
       "      <td>A</td>\n",
       "    </tr>\n",
       "    <tr>\n",
       "      <th>5</th>\n",
       "      <td>A</td>\n",
       "    </tr>\n",
       "    <tr>\n",
       "      <th>6</th>\n",
       "      <td>x</td>\n",
       "    </tr>\n",
       "    <tr>\n",
       "      <th>7</th>\n",
       "      <td>B</td>\n",
       "    </tr>\n",
       "    <tr>\n",
       "      <th>8</th>\n",
       "      <td>B</td>\n",
       "    </tr>\n",
       "    <tr>\n",
       "      <th>9</th>\n",
       "      <td>B</td>\n",
       "    </tr>\n",
       "    <tr>\n",
       "      <th>10</th>\n",
       "      <td>B</td>\n",
       "    </tr>\n",
       "    <tr>\n",
       "      <th>11</th>\n",
       "      <td>B</td>\n",
       "    </tr>\n",
       "    <tr>\n",
       "      <th>12</th>\n",
       "      <td>B</td>\n",
       "    </tr>\n",
       "    <tr>\n",
       "      <th>13</th>\n",
       "      <td>B</td>\n",
       "    </tr>\n",
       "    <tr>\n",
       "      <th>14</th>\n",
       "      <td>B</td>\n",
       "    </tr>\n",
       "    <tr>\n",
       "      <th>15</th>\n",
       "      <td>B</td>\n",
       "    </tr>\n",
       "    <tr>\n",
       "      <th>16</th>\n",
       "      <td>B</td>\n",
       "    </tr>\n",
       "    <tr>\n",
       "      <th>17</th>\n",
       "      <td>B</td>\n",
       "    </tr>\n",
       "    <tr>\n",
       "      <th>18</th>\n",
       "      <td>B</td>\n",
       "    </tr>\n",
       "    <tr>\n",
       "      <th>19</th>\n",
       "      <td>B</td>\n",
       "    </tr>\n",
       "    <tr>\n",
       "      <th>20</th>\n",
       "      <td>B</td>\n",
       "    </tr>\n",
       "    <tr>\n",
       "      <th>21</th>\n",
       "      <td>B</td>\n",
       "    </tr>\n",
       "    <tr>\n",
       "      <th>22</th>\n",
       "      <td>B</td>\n",
       "    </tr>\n",
       "    <tr>\n",
       "      <th>23</th>\n",
       "      <td>B</td>\n",
       "    </tr>\n",
       "    <tr>\n",
       "      <th>24</th>\n",
       "      <td>B</td>\n",
       "    </tr>\n",
       "    <tr>\n",
       "      <th>25</th>\n",
       "      <td>B</td>\n",
       "    </tr>\n",
       "    <tr>\n",
       "      <th>26</th>\n",
       "      <td>B</td>\n",
       "    </tr>\n",
       "    <tr>\n",
       "      <th>27</th>\n",
       "      <td>B</td>\n",
       "    </tr>\n",
       "    <tr>\n",
       "      <th>28</th>\n",
       "      <td>B</td>\n",
       "    </tr>\n",
       "    <tr>\n",
       "      <th>29</th>\n",
       "      <td>B</td>\n",
       "    </tr>\n",
       "    <tr>\n",
       "      <th>30</th>\n",
       "      <td>B</td>\n",
       "    </tr>\n",
       "    <tr>\n",
       "      <th>31</th>\n",
       "      <td>B</td>\n",
       "    </tr>\n",
       "    <tr>\n",
       "      <th>32</th>\n",
       "      <td>B</td>\n",
       "    </tr>\n",
       "    <tr>\n",
       "      <th>33</th>\n",
       "      <td>B</td>\n",
       "    </tr>\n",
       "    <tr>\n",
       "      <th>34</th>\n",
       "      <td>B</td>\n",
       "    </tr>\n",
       "    <tr>\n",
       "      <th>35</th>\n",
       "      <td>B</td>\n",
       "    </tr>\n",
       "    <tr>\n",
       "      <th>36</th>\n",
       "      <td>B</td>\n",
       "    </tr>\n",
       "    <tr>\n",
       "      <th>37</th>\n",
       "      <td>e</td>\n",
       "    </tr>\n",
       "    <tr>\n",
       "      <th>38</th>\n",
       "      <td>e</td>\n",
       "    </tr>\n",
       "    <tr>\n",
       "      <th>39</th>\n",
       "      <td>e</td>\n",
       "    </tr>\n",
       "    <tr>\n",
       "      <th>40</th>\n",
       "      <td>e</td>\n",
       "    </tr>\n",
       "    <tr>\n",
       "      <th>41</th>\n",
       "      <td>e</td>\n",
       "    </tr>\n",
       "  </tbody>\n",
       "</table>\n",
       "</div>"
      ],
      "text/plain": [
       "    0\n",
       "0   x\n",
       "1   A\n",
       "2   A\n",
       "3   A\n",
       "4   A\n",
       "5   A\n",
       "6   x\n",
       "7   B\n",
       "8   B\n",
       "9   B\n",
       "10  B\n",
       "11  B\n",
       "12  B\n",
       "13  B\n",
       "14  B\n",
       "15  B\n",
       "16  B\n",
       "17  B\n",
       "18  B\n",
       "19  B\n",
       "20  B\n",
       "21  B\n",
       "22  B\n",
       "23  B\n",
       "24  B\n",
       "25  B\n",
       "26  B\n",
       "27  B\n",
       "28  B\n",
       "29  B\n",
       "30  B\n",
       "31  B\n",
       "32  B\n",
       "33  B\n",
       "34  B\n",
       "35  B\n",
       "36  B\n",
       "37  e\n",
       "38  e\n",
       "39  e\n",
       "40  e\n",
       "41  e"
      ]
     },
     "execution_count": 103,
     "metadata": {},
     "output_type": "execute_result"
    }
   ],
   "source": [
    "flat_layout = pd.DataFrame(layout_np.flatten())\n",
    "flat_layout"
   ]
  },
  {
   "cell_type": "code",
   "execution_count": 104,
   "id": "7528f06f",
   "metadata": {},
   "outputs": [
    {
     "data": {
      "application/vnd.microsoft.datawrangler.viewer.v0+json": {
       "columns": [
        {
         "name": "index",
         "rawType": "int64",
         "type": "integer"
        },
        {
         "name": "0",
         "rawType": "object",
         "type": "unknown"
        }
       ],
       "ref": "1caf4959-fce5-40e3-8ef7-3e41a04b78b9",
       "rows": [
        [
         "0",
         "x"
        ],
        [
         "1",
         null
        ],
        [
         "2",
         null
        ],
        [
         "3",
         null
        ],
        [
         "4",
         null
        ],
        [
         "5",
         null
        ],
        [
         "6",
         "x"
        ],
        [
         "7",
         null
        ],
        [
         "8",
         null
        ],
        [
         "9",
         null
        ],
        [
         "10",
         null
        ],
        [
         "11",
         null
        ],
        [
         "12",
         null
        ],
        [
         "13",
         null
        ],
        [
         "14",
         null
        ],
        [
         "15",
         null
        ],
        [
         "16",
         null
        ],
        [
         "17",
         null
        ],
        [
         "18",
         null
        ],
        [
         "19",
         null
        ],
        [
         "20",
         null
        ],
        [
         "21",
         null
        ],
        [
         "22",
         null
        ],
        [
         "23",
         null
        ],
        [
         "24",
         null
        ],
        [
         "25",
         null
        ],
        [
         "26",
         null
        ],
        [
         "27",
         null
        ],
        [
         "28",
         null
        ],
        [
         "29",
         null
        ],
        [
         "30",
         null
        ],
        [
         "31",
         null
        ],
        [
         "32",
         null
        ],
        [
         "33",
         null
        ],
        [
         "34",
         null
        ],
        [
         "35",
         null
        ],
        [
         "36",
         null
        ],
        [
         "37",
         null
        ],
        [
         "38",
         null
        ],
        [
         "39",
         null
        ],
        [
         "40",
         null
        ],
        [
         "41",
         null
        ]
       ],
       "shape": {
        "columns": 1,
        "rows": 42
       }
      },
      "text/html": [
       "<div>\n",
       "<style scoped>\n",
       "    .dataframe tbody tr th:only-of-type {\n",
       "        vertical-align: middle;\n",
       "    }\n",
       "\n",
       "    .dataframe tbody tr th {\n",
       "        vertical-align: top;\n",
       "    }\n",
       "\n",
       "    .dataframe thead th {\n",
       "        text-align: right;\n",
       "    }\n",
       "</style>\n",
       "<table border=\"1\" class=\"dataframe\">\n",
       "  <thead>\n",
       "    <tr style=\"text-align: right;\">\n",
       "      <th></th>\n",
       "      <th>0</th>\n",
       "    </tr>\n",
       "  </thead>\n",
       "  <tbody>\n",
       "    <tr>\n",
       "      <th>0</th>\n",
       "      <td>x</td>\n",
       "    </tr>\n",
       "    <tr>\n",
       "      <th>1</th>\n",
       "      <td>NaN</td>\n",
       "    </tr>\n",
       "    <tr>\n",
       "      <th>2</th>\n",
       "      <td>NaN</td>\n",
       "    </tr>\n",
       "    <tr>\n",
       "      <th>3</th>\n",
       "      <td>NaN</td>\n",
       "    </tr>\n",
       "    <tr>\n",
       "      <th>4</th>\n",
       "      <td>NaN</td>\n",
       "    </tr>\n",
       "    <tr>\n",
       "      <th>5</th>\n",
       "      <td>NaN</td>\n",
       "    </tr>\n",
       "    <tr>\n",
       "      <th>6</th>\n",
       "      <td>x</td>\n",
       "    </tr>\n",
       "    <tr>\n",
       "      <th>7</th>\n",
       "      <td>NaN</td>\n",
       "    </tr>\n",
       "    <tr>\n",
       "      <th>8</th>\n",
       "      <td>NaN</td>\n",
       "    </tr>\n",
       "    <tr>\n",
       "      <th>9</th>\n",
       "      <td>NaN</td>\n",
       "    </tr>\n",
       "    <tr>\n",
       "      <th>10</th>\n",
       "      <td>NaN</td>\n",
       "    </tr>\n",
       "    <tr>\n",
       "      <th>11</th>\n",
       "      <td>NaN</td>\n",
       "    </tr>\n",
       "    <tr>\n",
       "      <th>12</th>\n",
       "      <td>NaN</td>\n",
       "    </tr>\n",
       "    <tr>\n",
       "      <th>13</th>\n",
       "      <td>NaN</td>\n",
       "    </tr>\n",
       "    <tr>\n",
       "      <th>14</th>\n",
       "      <td>NaN</td>\n",
       "    </tr>\n",
       "    <tr>\n",
       "      <th>15</th>\n",
       "      <td>NaN</td>\n",
       "    </tr>\n",
       "    <tr>\n",
       "      <th>16</th>\n",
       "      <td>NaN</td>\n",
       "    </tr>\n",
       "    <tr>\n",
       "      <th>17</th>\n",
       "      <td>NaN</td>\n",
       "    </tr>\n",
       "    <tr>\n",
       "      <th>18</th>\n",
       "      <td>NaN</td>\n",
       "    </tr>\n",
       "    <tr>\n",
       "      <th>19</th>\n",
       "      <td>NaN</td>\n",
       "    </tr>\n",
       "    <tr>\n",
       "      <th>20</th>\n",
       "      <td>NaN</td>\n",
       "    </tr>\n",
       "    <tr>\n",
       "      <th>21</th>\n",
       "      <td>NaN</td>\n",
       "    </tr>\n",
       "    <tr>\n",
       "      <th>22</th>\n",
       "      <td>NaN</td>\n",
       "    </tr>\n",
       "    <tr>\n",
       "      <th>23</th>\n",
       "      <td>NaN</td>\n",
       "    </tr>\n",
       "    <tr>\n",
       "      <th>24</th>\n",
       "      <td>NaN</td>\n",
       "    </tr>\n",
       "    <tr>\n",
       "      <th>25</th>\n",
       "      <td>NaN</td>\n",
       "    </tr>\n",
       "    <tr>\n",
       "      <th>26</th>\n",
       "      <td>NaN</td>\n",
       "    </tr>\n",
       "    <tr>\n",
       "      <th>27</th>\n",
       "      <td>NaN</td>\n",
       "    </tr>\n",
       "    <tr>\n",
       "      <th>28</th>\n",
       "      <td>NaN</td>\n",
       "    </tr>\n",
       "    <tr>\n",
       "      <th>29</th>\n",
       "      <td>NaN</td>\n",
       "    </tr>\n",
       "    <tr>\n",
       "      <th>30</th>\n",
       "      <td>NaN</td>\n",
       "    </tr>\n",
       "    <tr>\n",
       "      <th>31</th>\n",
       "      <td>NaN</td>\n",
       "    </tr>\n",
       "    <tr>\n",
       "      <th>32</th>\n",
       "      <td>NaN</td>\n",
       "    </tr>\n",
       "    <tr>\n",
       "      <th>33</th>\n",
       "      <td>NaN</td>\n",
       "    </tr>\n",
       "    <tr>\n",
       "      <th>34</th>\n",
       "      <td>NaN</td>\n",
       "    </tr>\n",
       "    <tr>\n",
       "      <th>35</th>\n",
       "      <td>NaN</td>\n",
       "    </tr>\n",
       "    <tr>\n",
       "      <th>36</th>\n",
       "      <td>NaN</td>\n",
       "    </tr>\n",
       "    <tr>\n",
       "      <th>37</th>\n",
       "      <td>NaN</td>\n",
       "    </tr>\n",
       "    <tr>\n",
       "      <th>38</th>\n",
       "      <td>NaN</td>\n",
       "    </tr>\n",
       "    <tr>\n",
       "      <th>39</th>\n",
       "      <td>NaN</td>\n",
       "    </tr>\n",
       "    <tr>\n",
       "      <th>40</th>\n",
       "      <td>NaN</td>\n",
       "    </tr>\n",
       "    <tr>\n",
       "      <th>41</th>\n",
       "      <td>NaN</td>\n",
       "    </tr>\n",
       "  </tbody>\n",
       "</table>\n",
       "</div>"
      ],
      "text/plain": [
       "      0\n",
       "0     x\n",
       "1   NaN\n",
       "2   NaN\n",
       "3   NaN\n",
       "4   NaN\n",
       "5   NaN\n",
       "6     x\n",
       "7   NaN\n",
       "8   NaN\n",
       "9   NaN\n",
       "10  NaN\n",
       "11  NaN\n",
       "12  NaN\n",
       "13  NaN\n",
       "14  NaN\n",
       "15  NaN\n",
       "16  NaN\n",
       "17  NaN\n",
       "18  NaN\n",
       "19  NaN\n",
       "20  NaN\n",
       "21  NaN\n",
       "22  NaN\n",
       "23  NaN\n",
       "24  NaN\n",
       "25  NaN\n",
       "26  NaN\n",
       "27  NaN\n",
       "28  NaN\n",
       "29  NaN\n",
       "30  NaN\n",
       "31  NaN\n",
       "32  NaN\n",
       "33  NaN\n",
       "34  NaN\n",
       "35  NaN\n",
       "36  NaN\n",
       "37  NaN\n",
       "38  NaN\n",
       "39  NaN\n",
       "40  NaN\n",
       "41  NaN"
      ]
     },
     "execution_count": 104,
     "metadata": {},
     "output_type": "execute_result"
    }
   ],
   "source": [
    "flat_layout[flat_layout=='x']"
   ]
  },
  {
   "cell_type": "code",
   "execution_count": 105,
   "id": "9cdb7d5e",
   "metadata": {},
   "outputs": [
    {
     "data": {
      "text/plain": [
       "(6, 7)"
      ]
     },
     "execution_count": 105,
     "metadata": {},
     "output_type": "execute_result"
    }
   ],
   "source": [
    "layout_df.shape"
   ]
  },
  {
   "cell_type": "code",
   "execution_count": 106,
   "id": "625fe804",
   "metadata": {},
   "outputs": [],
   "source": [
    "img = Image.new(\"RGB\", (\n",
    "    1024, 768\n",
    "), color=(255, 255, 255))\n",
    "draw = ImageDraw.Draw(img)\n",
    "# plt.imshow(img)"
   ]
  },
  {
   "cell_type": "code",
   "execution_count": 29,
   "id": "2b62b439",
   "metadata": {},
   "outputs": [
    {
     "data": {
      "text/plain": [
       "<matplotlib.image.AxesImage at 0x7f41b5166f00>"
      ]
     },
     "execution_count": 29,
     "metadata": {},
     "output_type": "execute_result"
    },
    {
     "data": {
      "image/png": "[encoded data removed]",
      "text/plain": [
       "<Figure size 640x480 with 1 Axes>"
      ]
     },
     "metadata": {},
     "output_type": "display_data"
    }
   ],
   "source": [
    "img = Image.new(\"RGB\", (\n",
    "    1024, 768\n",
    "), color=\"white\")\n",
    "draw = ImageDraw.Draw(img)\n",
    "\n",
    "# student number\n",
    "draw.rectangle(\n",
    "    [100, 100, 280, 130],\n",
    "    fill=(255, 255, 255),\n",
    "    outline=\"black\"\n",
    ")\n",
    "draw.text(\n",
    "    (110, 100),\n",
    "    \"1\",\n",
    "    fill=\"black\",\n",
    "    font=ImageFont.truetype(font_path, size=28)\n",
    ")\n",
    "\n",
    "# kana\n",
    "draw.rectangle(\n",
    "    [100, 130, 280, 160],\n",
    "    fill=(255,255,255),\n",
    "    outline=\"black\"\n",
    ")\n",
    "draw.text(\n",
    "    (100, 130),\n",
    "    str(names_df.iloc[0][\"kana\"]),\n",
    "    align=\"center\",\n",
    "    fill=\"black\",\n",
    "    font=ImageFont.truetype(font_path, size=25)\n",
    ")\n",
    "\n",
    "# kanji\n",
    "draw.rectangle(\n",
    "    [100, 160, 280, 205],\n",
    "    fill=(255, 255, 255),\n",
    "    outline=\"black\",\n",
    ")\n",
    "draw.text(\n",
    "    (100, 160),\n",
    "    names_df.iloc[0][\"name\"],\n",
    "    align=\"center\",\n",
    "    fill=\"black\",\n",
    "    font=ImageFont.truetype(font_path, size = 40),\n",
    ")\n",
    "\n",
    "plt.imshow(img)"
   ]
  },
  {
   "cell_type": "code",
   "execution_count": 30,
   "id": "702b3315",
   "metadata": {},
   "outputs": [
    {
     "data": {
      "text/plain": [
       "PIL.ImageDraw.ImageDraw"
      ]
     },
     "execution_count": 30,
     "metadata": {},
     "output_type": "execute_result"
    }
   ],
   "source": [
    "type(draw)"
   ]
  },
  {
   "cell_type": "code",
   "execution_count": 6,
   "id": "9aaef24b",
   "metadata": {},
   "outputs": [],
   "source": [
    "def draw_name_box(\n",
    "        number: int, name: str, kana: str, xyxy: list[int], out_color: str | tuple = \"black\"\n",
    "):\n",
    "    draw.rectangle(\n",
    "        xyxy,\n",
    "        fill=(255, 255, 255),\n",
    "        outline=out_color,\n",
    "    )\n",
    "    draw.text(\n",
    "        (xyxy[0] + 10, xyxy[1] + 10),\n",
    "        f\"{number} {name}\",\n",
    "        fill=out_color,\n",
    "        font=ImageFont.truetype(font_path, size=32),\n",
    "    )"
   ]
  },
  {
   "cell_type": "code",
   "execution_count": 9,
   "id": "e392bdd3",
   "metadata": {},
   "outputs": [
    {
     "data": {
      "text/plain": [
       "<matplotlib.image.AxesImage at 0x7ff3d8b00560>"
      ]
     },
     "execution_count": 9,
     "metadata": {},
     "output_type": "execute_result"
    },
    {
     "data": {
      "image/png": "[encoded data removed]",
      "text/plain": [
       "<Figure size 640x480 with 1 Axes>"
      ]
     },
     "metadata": {},
     "output_type": "display_data"
    }
   ],
   "source": [
    "draw_name_box(\n",
    "    1,\n",
    "    names_df.iloc[0][\"name\"],\n",
    "    names_df.iloc[0][\"kana\"],\n",
    "    [100, 100, 280, 240],\n",
    "    out_color=\"black\"\n",
    ")\n",
    "plt.imshow(img)"
   ]
  },
  {
   "cell_type": "code",
   "execution_count": 8,
   "id": "1f165230",
   "metadata": {},
   "outputs": [],
   "source": [
    "# save image\n",
    "img.save(OUT_PATH / \"test.png\")"
   ]
  }
 ],
 "metadata": {
  "kernelspec": {
   "display_name": ".venv",
   "language": "python",
   "name": "python3"
  },
  "language_info": {
   "codemirror_mode": {
    "name": "ipython",
    "version": 3
   },
   "file_extension": ".py",
   "mimetype": "text/x-python",
   "name": "python",
   "nbconvert_exporter": "python",
   "pygments_lexer": "ipython3",
   "version": "3.12.10"
  }
 },
 "nbformat": 4,
 "nbformat_minor": 5
}
