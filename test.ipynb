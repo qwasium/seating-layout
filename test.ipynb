{
 "cells": [
  {
   "cell_type": "code",
   "execution_count": 6,
   "id": "baaec930",
   "metadata": {},
   "outputs": [],
   "source": [
    "import os\n",
    "from pathlib import Path\n",
    "\n",
    "\n",
    "import yaml\n",
    "import pandas as pd\n",
    "import numpy as np\n",
    "import matplotlib.pyplot as plt\n",
    "from PIL import Image, ImageDraw, ImageFont\n",
    "\n",
    "HERE = os.getcwd()\n",
    "HERE\n",
    "\n",
    "OUT_PATH = Path(HERE, \"output\")\n",
    "if not OUT_PATH.exists():\n",
    "    OUT_PATH.mkdir(exist_ok=True)"
   ]
  },
  {
   "cell_type": "code",
   "execution_count": 2,
   "id": "b5b8ce3a",
   "metadata": {},
   "outputs": [
    {
     "data": {
      "application/vnd.microsoft.datawrangler.viewer.v0+json": {
       "columns": [
        {
         "name": "index",
         "rawType": "int64",
         "type": "integer"
        },
        {
         "name": "number",
         "rawType": "int64",
         "type": "integer"
        },
        {
         "name": "name",
         "rawType": "object",
         "type": "string"
        },
        {
         "name": "kana",
         "rawType": "object",
         "type": "string"
        },
        {
         "name": "group",
         "rawType": "object",
         "type": "string"
        }
       ],
       "ref": "9256c3b2-16d5-4aaf-a2c6-9b316426caac",
       "rows": [
        [
         "0",
         "1",
         "安藤 光希",
         "あんどう こうき",
         "A"
        ],
        [
         "1",
         "2",
         "石田 晴香",
         "いしだ はるか",
         "A"
        ],
        [
         "2",
         "3",
         "井上 蓮斗",
         "いのうえ れんと",
         "A"
        ],
        [
         "3",
         "4",
         "上原 芽衣",
         "うえはら めい",
         "A"
        ],
        [
         "4",
         "5",
         "大久保 悠真",
         "おおくぼ ゆうま",
         "A"
        ],
        [
         "5",
         "6",
         "加藤 紗季",
         "かとう さき",
         "A"
        ],
        [
         "6",
         "7",
         "川口 翔",
         "かわぐち しょう",
         "A"
        ],
        [
         "7",
         "8",
         "北村 莉央",
         "きたむら りお",
         "A"
        ],
        [
         "8",
         "9",
         "小林 拓海",
         "こばやし たくみ",
         "A"
        ],
        [
         "9",
         "10",
         "斉藤 美月",
         "さいとう みづき",
         "A"
        ],
        [
         "10",
         "11",
         "佐々木 陽菜",
         "ささき はるな",
         "A"
        ],
        [
         "11",
         "12",
         "白石 颯太",
         "しらいし そうた",
         "A"
        ],
        [
         "12",
         "13",
         "杉山 愛",
         "すぎやま あい",
         "A"
        ],
        [
         "13",
         "14",
         "高橋 純",
         "たかはし じゅん",
         "A"
        ],
        [
         "14",
         "15",
         "竹内 美咲",
         "たけうち みさき",
         "A"
        ],
        [
         "15",
         "16",
         "田村 拓真",
         "たむら たくま",
         "A"
        ],
        [
         "16",
         "17",
         "千葉 結衣",
         "ちば ゆい",
         "A"
        ],
        [
         "17",
         "18",
         "土屋 遼",
         "つちや りょう",
         "A"
        ],
        [
         "18",
         "19",
         "中島 真央",
         "なかじま まお",
         "A"
        ],
        [
         "19",
         "20",
         "西村 杏",
         "にしむら あん",
         "A"
        ],
        [
         "20",
         "21",
         "野口 海翔",
         "のぐち かいと",
         "A"
        ],
        [
         "21",
         "22",
         "萩原 奈々",
         "はぎわら なな",
         "A"
        ],
        [
         "22",
         "23",
         "林 駿",
         "はやし しゅん",
         "A"
        ],
        [
         "23",
         "24",
         "平田 花音",
         "ひらた かのん",
         "A"
        ],
        [
         "24",
         "25",
         "藤本 玲奈",
         "ふじもと れいな",
         "A"
        ],
        [
         "25",
         "26",
         "本田 光",
         "ほんだ ひかる",
         "A"
        ],
        [
         "26",
         "27",
         "前田 翼",
         "まえだ つばさ",
         "A"
        ],
        [
         "27",
         "28",
         "松井 彩乃",
         "まつい あやの",
         "A"
        ],
        [
         "28",
         "29",
         "南 結月",
         "みなみ ゆづき",
         "A"
        ],
        [
         "29",
         "30",
         "森 遥",
         "もり はるか",
         "A"
        ],
        [
         "30",
         "31",
         "安田 樹",
         "やすだ いつき",
         "A"
        ],
        [
         "31",
         "32",
         "山口 蒼",
         "やまぐち あおい",
         "A"
        ],
        [
         "32",
         "33",
         "横山 琴音",
         "よこやま ことね",
         "A"
        ],
        [
         "33",
         "34",
         "吉田 奏",
         "よしだ かなで",
         "A"
        ],
        [
         "34",
         "35",
         "若松 優",
         "わかまつ ゆう",
         "A"
        ]
       ],
       "shape": {
        "columns": 4,
        "rows": 35
       }
      },
      "text/html": [
       "<div>\n",
       "<style scoped>\n",
       "    .dataframe tbody tr th:only-of-type {\n",
       "        vertical-align: middle;\n",
       "    }\n",
       "\n",
       "    .dataframe tbody tr th {\n",
       "        vertical-align: top;\n",
       "    }\n",
       "\n",
       "    .dataframe thead th {\n",
       "        text-align: right;\n",
       "    }\n",
       "</style>\n",
       "<table border=\"1\" class=\"dataframe\">\n",
       "  <thead>\n",
       "    <tr style=\"text-align: right;\">\n",
       "      <th></th>\n",
       "      <th>number</th>\n",
       "      <th>name</th>\n",
       "      <th>kana</th>\n",
       "      <th>group</th>\n",
       "    </tr>\n",
       "  </thead>\n",
       "  <tbody>\n",
       "    <tr>\n",
       "      <th>0</th>\n",
       "      <td>1</td>\n",
       "      <td>安藤 光希</td>\n",
       "      <td>あんどう こうき</td>\n",
       "      <td>A</td>\n",
       "    </tr>\n",
       "    <tr>\n",
       "      <th>1</th>\n",
       "      <td>2</td>\n",
       "      <td>石田 晴香</td>\n",
       "      <td>いしだ はるか</td>\n",
       "      <td>A</td>\n",
       "    </tr>\n",
       "    <tr>\n",
       "      <th>2</th>\n",
       "      <td>3</td>\n",
       "      <td>井上 蓮斗</td>\n",
       "      <td>いのうえ れんと</td>\n",
       "      <td>A</td>\n",
       "    </tr>\n",
       "    <tr>\n",
       "      <th>3</th>\n",
       "      <td>4</td>\n",
       "      <td>上原 芽衣</td>\n",
       "      <td>うえはら めい</td>\n",
       "      <td>A</td>\n",
       "    </tr>\n",
       "    <tr>\n",
       "      <th>4</th>\n",
       "      <td>5</td>\n",
       "      <td>大久保 悠真</td>\n",
       "      <td>おおくぼ ゆうま</td>\n",
       "      <td>A</td>\n",
       "    </tr>\n",
       "    <tr>\n",
       "      <th>5</th>\n",
       "      <td>6</td>\n",
       "      <td>加藤 紗季</td>\n",
       "      <td>かとう さき</td>\n",
       "      <td>A</td>\n",
       "    </tr>\n",
       "    <tr>\n",
       "      <th>6</th>\n",
       "      <td>7</td>\n",
       "      <td>川口 翔</td>\n",
       "      <td>かわぐち しょう</td>\n",
       "      <td>A</td>\n",
       "    </tr>\n",
       "    <tr>\n",
       "      <th>7</th>\n",
       "      <td>8</td>\n",
       "      <td>北村 莉央</td>\n",
       "      <td>きたむら りお</td>\n",
       "      <td>A</td>\n",
       "    </tr>\n",
       "    <tr>\n",
       "      <th>8</th>\n",
       "      <td>9</td>\n",
       "      <td>小林 拓海</td>\n",
       "      <td>こばやし たくみ</td>\n",
       "      <td>A</td>\n",
       "    </tr>\n",
       "    <tr>\n",
       "      <th>9</th>\n",
       "      <td>10</td>\n",
       "      <td>斉藤 美月</td>\n",
       "      <td>さいとう みづき</td>\n",
       "      <td>A</td>\n",
       "    </tr>\n",
       "    <tr>\n",
       "      <th>10</th>\n",
       "      <td>11</td>\n",
       "      <td>佐々木 陽菜</td>\n",
       "      <td>ささき はるな</td>\n",
       "      <td>A</td>\n",
       "    </tr>\n",
       "    <tr>\n",
       "      <th>11</th>\n",
       "      <td>12</td>\n",
       "      <td>白石 颯太</td>\n",
       "      <td>しらいし そうた</td>\n",
       "      <td>A</td>\n",
       "    </tr>\n",
       "    <tr>\n",
       "      <th>12</th>\n",
       "      <td>13</td>\n",
       "      <td>杉山 愛</td>\n",
       "      <td>すぎやま あい</td>\n",
       "      <td>A</td>\n",
       "    </tr>\n",
       "    <tr>\n",
       "      <th>13</th>\n",
       "      <td>14</td>\n",
       "      <td>高橋 純</td>\n",
       "      <td>たかはし じゅん</td>\n",
       "      <td>A</td>\n",
       "    </tr>\n",
       "    <tr>\n",
       "      <th>14</th>\n",
       "      <td>15</td>\n",
       "      <td>竹内 美咲</td>\n",
       "      <td>たけうち みさき</td>\n",
       "      <td>A</td>\n",
       "    </tr>\n",
       "    <tr>\n",
       "      <th>15</th>\n",
       "      <td>16</td>\n",
       "      <td>田村 拓真</td>\n",
       "      <td>たむら たくま</td>\n",
       "      <td>A</td>\n",
       "    </tr>\n",
       "    <tr>\n",
       "      <th>16</th>\n",
       "      <td>17</td>\n",
       "      <td>千葉 結衣</td>\n",
       "      <td>ちば ゆい</td>\n",
       "      <td>A</td>\n",
       "    </tr>\n",
       "    <tr>\n",
       "      <th>17</th>\n",
       "      <td>18</td>\n",
       "      <td>土屋 遼</td>\n",
       "      <td>つちや りょう</td>\n",
       "      <td>A</td>\n",
       "    </tr>\n",
       "    <tr>\n",
       "      <th>18</th>\n",
       "      <td>19</td>\n",
       "      <td>中島 真央</td>\n",
       "      <td>なかじま まお</td>\n",
       "      <td>A</td>\n",
       "    </tr>\n",
       "    <tr>\n",
       "      <th>19</th>\n",
       "      <td>20</td>\n",
       "      <td>西村 杏</td>\n",
       "      <td>にしむら あん</td>\n",
       "      <td>A</td>\n",
       "    </tr>\n",
       "    <tr>\n",
       "      <th>20</th>\n",
       "      <td>21</td>\n",
       "      <td>野口 海翔</td>\n",
       "      <td>のぐち かいと</td>\n",
       "      <td>A</td>\n",
       "    </tr>\n",
       "    <tr>\n",
       "      <th>21</th>\n",
       "      <td>22</td>\n",
       "      <td>萩原 奈々</td>\n",
       "      <td>はぎわら なな</td>\n",
       "      <td>A</td>\n",
       "    </tr>\n",
       "    <tr>\n",
       "      <th>22</th>\n",
       "      <td>23</td>\n",
       "      <td>林 駿</td>\n",
       "      <td>はやし しゅん</td>\n",
       "      <td>A</td>\n",
       "    </tr>\n",
       "    <tr>\n",
       "      <th>23</th>\n",
       "      <td>24</td>\n",
       "      <td>平田 花音</td>\n",
       "      <td>ひらた かのん</td>\n",
       "      <td>A</td>\n",
       "    </tr>\n",
       "    <tr>\n",
       "      <th>24</th>\n",
       "      <td>25</td>\n",
       "      <td>藤本 玲奈</td>\n",
       "      <td>ふじもと れいな</td>\n",
       "      <td>A</td>\n",
       "    </tr>\n",
       "    <tr>\n",
       "      <th>25</th>\n",
       "      <td>26</td>\n",
       "      <td>本田 光</td>\n",
       "      <td>ほんだ ひかる</td>\n",
       "      <td>A</td>\n",
       "    </tr>\n",
       "    <tr>\n",
       "      <th>26</th>\n",
       "      <td>27</td>\n",
       "      <td>前田 翼</td>\n",
       "      <td>まえだ つばさ</td>\n",
       "      <td>A</td>\n",
       "    </tr>\n",
       "    <tr>\n",
       "      <th>27</th>\n",
       "      <td>28</td>\n",
       "      <td>松井 彩乃</td>\n",
       "      <td>まつい あやの</td>\n",
       "      <td>A</td>\n",
       "    </tr>\n",
       "    <tr>\n",
       "      <th>28</th>\n",
       "      <td>29</td>\n",
       "      <td>南 結月</td>\n",
       "      <td>みなみ ゆづき</td>\n",
       "      <td>A</td>\n",
       "    </tr>\n",
       "    <tr>\n",
       "      <th>29</th>\n",
       "      <td>30</td>\n",
       "      <td>森 遥</td>\n",
       "      <td>もり はるか</td>\n",
       "      <td>A</td>\n",
       "    </tr>\n",
       "    <tr>\n",
       "      <th>30</th>\n",
       "      <td>31</td>\n",
       "      <td>安田 樹</td>\n",
       "      <td>やすだ いつき</td>\n",
       "      <td>A</td>\n",
       "    </tr>\n",
       "    <tr>\n",
       "      <th>31</th>\n",
       "      <td>32</td>\n",
       "      <td>山口 蒼</td>\n",
       "      <td>やまぐち あおい</td>\n",
       "      <td>A</td>\n",
       "    </tr>\n",
       "    <tr>\n",
       "      <th>32</th>\n",
       "      <td>33</td>\n",
       "      <td>横山 琴音</td>\n",
       "      <td>よこやま ことね</td>\n",
       "      <td>A</td>\n",
       "    </tr>\n",
       "    <tr>\n",
       "      <th>33</th>\n",
       "      <td>34</td>\n",
       "      <td>吉田 奏</td>\n",
       "      <td>よしだ かなで</td>\n",
       "      <td>A</td>\n",
       "    </tr>\n",
       "    <tr>\n",
       "      <th>34</th>\n",
       "      <td>35</td>\n",
       "      <td>若松 優</td>\n",
       "      <td>わかまつ ゆう</td>\n",
       "      <td>A</td>\n",
       "    </tr>\n",
       "  </tbody>\n",
       "</table>\n",
       "</div>"
      ],
      "text/plain": [
       "    number    name      kana group\n",
       "0        1   安藤 光希  あんどう こうき     A\n",
       "1        2   石田 晴香   いしだ はるか     A\n",
       "2        3   井上 蓮斗  いのうえ れんと     A\n",
       "3        4   上原 芽衣   うえはら めい     A\n",
       "4        5  大久保 悠真  おおくぼ ゆうま     A\n",
       "5        6   加藤 紗季    かとう さき     A\n",
       "6        7    川口 翔  かわぐち しょう     A\n",
       "7        8   北村 莉央   きたむら りお     A\n",
       "8        9   小林 拓海  こばやし たくみ     A\n",
       "9       10   斉藤 美月  さいとう みづき     A\n",
       "10      11  佐々木 陽菜   ささき はるな     A\n",
       "11      12   白石 颯太  しらいし そうた     A\n",
       "12      13    杉山 愛   すぎやま あい     A\n",
       "13      14    高橋 純  たかはし じゅん     A\n",
       "14      15   竹内 美咲  たけうち みさき     A\n",
       "15      16   田村 拓真   たむら たくま     A\n",
       "16      17   千葉 結衣     ちば ゆい     A\n",
       "17      18    土屋 遼   つちや りょう     A\n",
       "18      19   中島 真央   なかじま まお     A\n",
       "19      20    西村 杏   にしむら あん     A\n",
       "20      21   野口 海翔   のぐち かいと     A\n",
       "21      22   萩原 奈々   はぎわら なな     A\n",
       "22      23     林 駿   はやし しゅん     A\n",
       "23      24   平田 花音   ひらた かのん     A\n",
       "24      25   藤本 玲奈  ふじもと れいな     A\n",
       "25      26    本田 光   ほんだ ひかる     A\n",
       "26      27    前田 翼   まえだ つばさ     A\n",
       "27      28   松井 彩乃   まつい あやの     A\n",
       "28      29    南 結月   みなみ ゆづき     A\n",
       "29      30     森 遥    もり はるか     A\n",
       "30      31    安田 樹   やすだ いつき     A\n",
       "31      32    山口 蒼  やまぐち あおい     A\n",
       "32      33   横山 琴音  よこやま ことね     A\n",
       "33      34    吉田 奏   よしだ かなで     A\n",
       "34      35    若松 優   わかまつ ゆう     A"
      ]
     },
     "execution_count": 2,
     "metadata": {},
     "output_type": "execute_result"
    }
   ],
   "source": [
    "names_df = pd.read_csv(\n",
    "    Path(HERE) / \"config\" / \"names.csv\", header=0\n",
    ")\n",
    "names_df"
   ]
  },
  {
   "cell_type": "code",
   "execution_count": 3,
   "id": "96cb6e7d",
   "metadata": {},
   "outputs": [
    {
     "data": {
      "application/vnd.microsoft.datawrangler.viewer.v0+json": {
       "columns": [
        {
         "name": "0",
         "rawType": "int64",
         "type": "integer"
        },
        {
         "name": "1",
         "rawType": "object",
         "type": "string"
        },
        {
         "name": "2",
         "rawType": "object",
         "type": "string"
        },
        {
         "name": "3",
         "rawType": "object",
         "type": "string"
        },
        {
         "name": "4",
         "rawType": "object",
         "type": "string"
        },
        {
         "name": "5",
         "rawType": "object",
         "type": "string"
        },
        {
         "name": "6",
         "rawType": "object",
         "type": "string"
        }
       ],
       "ref": "0a7ffea7-f8b4-44d1-a3bc-338c21d4e863",
       "rows": [
        [
         "1",
         "x",
         "A",
         "A",
         "A",
         "A",
         "x"
        ],
        [
         "2",
         "B",
         "B",
         "B",
         "B",
         "B",
         "B"
        ],
        [
         "3",
         "B",
         "B",
         "B",
         "B",
         "B",
         "B"
        ],
        [
         "4",
         "B",
         "B",
         "B",
         "B",
         "B",
         "B"
        ],
        [
         "5",
         "B",
         "B",
         "B",
         "B",
         "B",
         "B"
        ],
        [
         "6",
         "B",
         "B",
         "B",
         "B",
         "B",
         "B"
        ]
       ],
       "shape": {
        "columns": 6,
        "rows": 6
       }
      },
      "text/html": [
       "<div>\n",
       "<style scoped>\n",
       "    .dataframe tbody tr th:only-of-type {\n",
       "        vertical-align: middle;\n",
       "    }\n",
       "\n",
       "    .dataframe tbody tr th {\n",
       "        vertical-align: top;\n",
       "    }\n",
       "\n",
       "    .dataframe thead th {\n",
       "        text-align: right;\n",
       "    }\n",
       "</style>\n",
       "<table border=\"1\" class=\"dataframe\">\n",
       "  <thead>\n",
       "    <tr style=\"text-align: right;\">\n",
       "      <th></th>\n",
       "      <th>1</th>\n",
       "      <th>2</th>\n",
       "      <th>3</th>\n",
       "      <th>4</th>\n",
       "      <th>5</th>\n",
       "      <th>6</th>\n",
       "    </tr>\n",
       "    <tr>\n",
       "      <th>0</th>\n",
       "      <th></th>\n",
       "      <th></th>\n",
       "      <th></th>\n",
       "      <th></th>\n",
       "      <th></th>\n",
       "      <th></th>\n",
       "    </tr>\n",
       "  </thead>\n",
       "  <tbody>\n",
       "    <tr>\n",
       "      <th>1</th>\n",
       "      <td>x</td>\n",
       "      <td>A</td>\n",
       "      <td>A</td>\n",
       "      <td>A</td>\n",
       "      <td>A</td>\n",
       "      <td>x</td>\n",
       "    </tr>\n",
       "    <tr>\n",
       "      <th>2</th>\n",
       "      <td>B</td>\n",
       "      <td>B</td>\n",
       "      <td>B</td>\n",
       "      <td>B</td>\n",
       "      <td>B</td>\n",
       "      <td>B</td>\n",
       "    </tr>\n",
       "    <tr>\n",
       "      <th>3</th>\n",
       "      <td>B</td>\n",
       "      <td>B</td>\n",
       "      <td>B</td>\n",
       "      <td>B</td>\n",
       "      <td>B</td>\n",
       "      <td>B</td>\n",
       "    </tr>\n",
       "    <tr>\n",
       "      <th>4</th>\n",
       "      <td>B</td>\n",
       "      <td>B</td>\n",
       "      <td>B</td>\n",
       "      <td>B</td>\n",
       "      <td>B</td>\n",
       "      <td>B</td>\n",
       "    </tr>\n",
       "    <tr>\n",
       "      <th>5</th>\n",
       "      <td>B</td>\n",
       "      <td>B</td>\n",
       "      <td>B</td>\n",
       "      <td>B</td>\n",
       "      <td>B</td>\n",
       "      <td>B</td>\n",
       "    </tr>\n",
       "    <tr>\n",
       "      <th>6</th>\n",
       "      <td>B</td>\n",
       "      <td>B</td>\n",
       "      <td>B</td>\n",
       "      <td>B</td>\n",
       "      <td>B</td>\n",
       "      <td>B</td>\n",
       "    </tr>\n",
       "  </tbody>\n",
       "</table>\n",
       "</div>"
      ],
      "text/plain": [
       "   1  2  3  4  5  6\n",
       "0                  \n",
       "1  x  A  A  A  A  x\n",
       "2  B  B  B  B  B  B\n",
       "3  B  B  B  B  B  B\n",
       "4  B  B  B  B  B  B\n",
       "5  B  B  B  B  B  B\n",
       "6  B  B  B  B  B  B"
      ]
     },
     "execution_count": 3,
     "metadata": {},
     "output_type": "execute_result"
    }
   ],
   "source": [
    "layout_df = pd.read_csv(\n",
    "    Path(HERE) / \"config\" / \"layout.csv\", header=0, index_col=0\n",
    ")\n",
    "layout_df"
   ]
  },
  {
   "cell_type": "code",
   "execution_count": 8,
   "id": "625fe804",
   "metadata": {},
   "outputs": [
    {
     "data": {
      "text/plain": [
       "<matplotlib.image.AxesImage at 0x7f5ba87183b0>"
      ]
     },
     "execution_count": 8,
     "metadata": {},
     "output_type": "execute_result"
    },
    {
     "data": {
      "image/png": "[encoded data removed]",
      "text/plain": [
       "<Figure size 640x480 with 1 Axes>"
      ]
     },
     "metadata": {},
     "output_type": "display_data"
    }
   ],
   "source": [
    "img = Image.new(\"RGB\", (\n",
    "    1024, 768\n",
    "), color=(255, 255, 255))\n",
    "draw = ImageDraw.Draw(img)\n",
    "plt.imshow(img)"
   ]
  },
  {
   "cell_type": "code",
   "execution_count": 16,
   "id": "9aaef24b",
   "metadata": {},
   "outputs": [],
   "source": [
    "def draw_name_box(number: int, name: str, kana: str, xyxy: list[int], out_color: str | tuple = \"black\"):\n",
    "    draw.rectangle(\n",
    "        xyxy,\n",
    "        fill=(255, 255, 255),\n",
    "        outline=out_color,\n",
    "    )\n",
    "    draw.text(\n",
    "        (xyxy[0] + 10, xyxy[1] + 10),\n",
    "        f\"{number} {name}\",\n",
    "        fill=out_color,\n",
    "        font=\"NotoSansCJK-Regular.ttc\",\n",
    "    )"
   ]
  },
  {
   "cell_type": "code",
   "execution_count": 17,
   "id": "e392bdd3",
   "metadata": {},
   "outputs": [
    {
     "ename": "AttributeError",
     "evalue": "'str' object has no attribute 'getmask'",
     "output_type": "error",
     "traceback": [
      "\u001b[31m---------------------------------------------------------------------------\u001b[39m",
      "\u001b[31mAttributeError\u001b[39m                            Traceback (most recent call last)",
      "\u001b[36mFile \u001b[39m\u001b[32m~/Documents/seating-layout/.venv/lib/python3.12/site-packages/PIL/ImageDraw.py:621\u001b[39m, in \u001b[36mImageDraw.text.<locals>.draw_text\u001b[39m\u001b[34m(ink, stroke_width)\u001b[39m\n\u001b[32m    620\u001b[39m \u001b[38;5;28;01mtry\u001b[39;00m:\n\u001b[32m--> \u001b[39m\u001b[32m621\u001b[39m     mask, offset = \u001b[43mfont\u001b[49m\u001b[43m.\u001b[49m\u001b[43mgetmask2\u001b[49m(  \u001b[38;5;66;03m# type: ignore[union-attr,misc]\u001b[39;00m\n\u001b[32m    622\u001b[39m         text,\n\u001b[32m    623\u001b[39m         mode,\n\u001b[32m    624\u001b[39m         direction=direction,\n\u001b[32m    625\u001b[39m         features=features,\n\u001b[32m    626\u001b[39m         language=language,\n\u001b[32m    627\u001b[39m         stroke_width=stroke_width,\n\u001b[32m    628\u001b[39m         stroke_filled=\u001b[38;5;28;01mTrue\u001b[39;00m,\n\u001b[32m    629\u001b[39m         anchor=anchor,\n\u001b[32m    630\u001b[39m         ink=ink,\n\u001b[32m    631\u001b[39m         start=start,\n\u001b[32m    632\u001b[39m         *args,\n\u001b[32m    633\u001b[39m         **kwargs,\n\u001b[32m    634\u001b[39m     )\n\u001b[32m    635\u001b[39m     coord = [coord[\u001b[32m0\u001b[39m] + offset[\u001b[32m0\u001b[39m], coord[\u001b[32m1\u001b[39m] + offset[\u001b[32m1\u001b[39m]]\n",
      "\u001b[31mAttributeError\u001b[39m: 'str' object has no attribute 'getmask2'",
      "\nDuring handling of the above exception, another exception occurred:\n",
      "\u001b[31mAttributeError\u001b[39m                            Traceback (most recent call last)",
      "\u001b[36mCell\u001b[39m\u001b[36m \u001b[39m\u001b[32mIn[17]\u001b[39m\u001b[32m, line 1\u001b[39m\n\u001b[32m----> \u001b[39m\u001b[32m1\u001b[39m \u001b[43mdraw_name_box\u001b[49m\u001b[43m(\u001b[49m\n\u001b[32m      2\u001b[39m \u001b[43m    \u001b[49m\u001b[32;43m1\u001b[39;49m\u001b[43m,\u001b[49m\n\u001b[32m      3\u001b[39m \u001b[43m    \u001b[49m\u001b[43mnames_df\u001b[49m\u001b[43m.\u001b[49m\u001b[43miloc\u001b[49m\u001b[43m[\u001b[49m\u001b[32;43m0\u001b[39;49m\u001b[43m]\u001b[49m\u001b[43m[\u001b[49m\u001b[33;43m\"\u001b[39;49m\u001b[33;43mname\u001b[39;49m\u001b[33;43m\"\u001b[39;49m\u001b[43m]\u001b[49m\u001b[43m,\u001b[49m\n\u001b[32m      4\u001b[39m \u001b[43m    \u001b[49m\u001b[43mnames_df\u001b[49m\u001b[43m.\u001b[49m\u001b[43miloc\u001b[49m\u001b[43m[\u001b[49m\u001b[32;43m0\u001b[39;49m\u001b[43m]\u001b[49m\u001b[43m[\u001b[49m\u001b[33;43m\"\u001b[39;49m\u001b[33;43mkana\u001b[39;49m\u001b[33;43m\"\u001b[39;49m\u001b[43m]\u001b[49m\u001b[43m,\u001b[49m\n\u001b[32m      5\u001b[39m \u001b[43m    \u001b[49m\u001b[43m[\u001b[49m\u001b[32;43m100\u001b[39;49m\u001b[43m,\u001b[49m\u001b[43m \u001b[49m\u001b[32;43m100\u001b[39;49m\u001b[43m,\u001b[49m\u001b[43m \u001b[49m\u001b[32;43m300\u001b[39;49m\u001b[43m,\u001b[49m\u001b[43m \u001b[49m\u001b[32;43m200\u001b[39;49m\u001b[43m]\u001b[49m\u001b[43m,\u001b[49m\n\u001b[32m      6\u001b[39m \u001b[43m    \u001b[49m\u001b[43mout_color\u001b[49m\u001b[43m=\u001b[49m\u001b[33;43m\"\u001b[39;49m\u001b[33;43mblack\u001b[39;49m\u001b[33;43m\"\u001b[39;49m\n\u001b[32m      7\u001b[39m \u001b[43m)\u001b[49m\n\u001b[32m      8\u001b[39m plt.imshow(img)\n",
      "\u001b[36mCell\u001b[39m\u001b[36m \u001b[39m\u001b[32mIn[16]\u001b[39m\u001b[32m, line 7\u001b[39m, in \u001b[36mdraw_name_box\u001b[39m\u001b[34m(number, name, kana, xyxy, out_color)\u001b[39m\n\u001b[32m      1\u001b[39m \u001b[38;5;28;01mdef\u001b[39;00m\u001b[38;5;250m \u001b[39m\u001b[34mdraw_name_box\u001b[39m(number: \u001b[38;5;28mint\u001b[39m, name: \u001b[38;5;28mstr\u001b[39m, kana: \u001b[38;5;28mstr\u001b[39m, xyxy: \u001b[38;5;28mlist\u001b[39m[\u001b[38;5;28mint\u001b[39m], out_color: \u001b[38;5;28mstr\u001b[39m | \u001b[38;5;28mtuple\u001b[39m = \u001b[33m\"\u001b[39m\u001b[33mblack\u001b[39m\u001b[33m\"\u001b[39m):\n\u001b[32m      2\u001b[39m     draw.rectangle(\n\u001b[32m      3\u001b[39m         xyxy,\n\u001b[32m      4\u001b[39m         fill=(\u001b[32m255\u001b[39m, \u001b[32m255\u001b[39m, \u001b[32m255\u001b[39m),\n\u001b[32m      5\u001b[39m         outline=out_color,\n\u001b[32m      6\u001b[39m     )\n\u001b[32m----> \u001b[39m\u001b[32m7\u001b[39m     \u001b[43mdraw\u001b[49m\u001b[43m.\u001b[49m\u001b[43mtext\u001b[49m\u001b[43m(\u001b[49m\n\u001b[32m      8\u001b[39m \u001b[43m        \u001b[49m\u001b[43m(\u001b[49m\u001b[43mxyxy\u001b[49m\u001b[43m[\u001b[49m\u001b[32;43m0\u001b[39;49m\u001b[43m]\u001b[49m\u001b[43m \u001b[49m\u001b[43m+\u001b[49m\u001b[43m \u001b[49m\u001b[32;43m10\u001b[39;49m\u001b[43m,\u001b[49m\u001b[43m \u001b[49m\u001b[43mxyxy\u001b[49m\u001b[43m[\u001b[49m\u001b[32;43m1\u001b[39;49m\u001b[43m]\u001b[49m\u001b[43m \u001b[49m\u001b[43m+\u001b[49m\u001b[43m \u001b[49m\u001b[32;43m10\u001b[39;49m\u001b[43m)\u001b[49m\u001b[43m,\u001b[49m\n\u001b[32m      9\u001b[39m \u001b[43m        \u001b[49m\u001b[33;43mf\u001b[39;49m\u001b[33;43m\"\u001b[39;49m\u001b[38;5;132;43;01m{\u001b[39;49;00m\u001b[43mnumber\u001b[49m\u001b[38;5;132;43;01m}\u001b[39;49;00m\u001b[33;43m \u001b[39;49m\u001b[38;5;132;43;01m{\u001b[39;49;00m\u001b[43mname\u001b[49m\u001b[38;5;132;43;01m}\u001b[39;49;00m\u001b[33;43m\"\u001b[39;49m\u001b[43m,\u001b[49m\n\u001b[32m     10\u001b[39m \u001b[43m        \u001b[49m\u001b[43mfill\u001b[49m\u001b[43m=\u001b[49m\u001b[43mout_color\u001b[49m\u001b[43m,\u001b[49m\n\u001b[32m     11\u001b[39m \u001b[43m        \u001b[49m\u001b[43mfont\u001b[49m\u001b[43m=\u001b[49m\u001b[33;43m\"\u001b[39;49m\u001b[33;43mNotoSansCJK-Regular.ttc\u001b[39;49m\u001b[33;43m\"\u001b[39;49m\u001b[43m,\u001b[49m\n\u001b[32m     12\u001b[39m \u001b[43m    \u001b[49m\u001b[43m)\u001b[49m\n",
      "\u001b[36mFile \u001b[39m\u001b[32m~/Documents/seating-layout/.venv/lib/python3.12/site-packages/PIL/ImageDraw.py:682\u001b[39m, in \u001b[36mImageDraw.text\u001b[39m\u001b[34m(self, xy, text, fill, font, anchor, spacing, align, direction, features, language, stroke_width, stroke_fill, embedded_color, *args, **kwargs)\u001b[39m\n\u001b[32m    679\u001b[39m         draw_text(ink)\n\u001b[32m    680\u001b[39m \u001b[38;5;28;01melse\u001b[39;00m:\n\u001b[32m    681\u001b[39m     \u001b[38;5;66;03m# Only draw normal text\u001b[39;00m\n\u001b[32m--> \u001b[39m\u001b[32m682\u001b[39m     \u001b[43mdraw_text\u001b[49m\u001b[43m(\u001b[49m\u001b[43mink\u001b[49m\u001b[43m)\u001b[49m\n",
      "\u001b[36mFile \u001b[39m\u001b[32m~/Documents/seating-layout/.venv/lib/python3.12/site-packages/PIL/ImageDraw.py:638\u001b[39m, in \u001b[36mImageDraw.text.<locals>.draw_text\u001b[39m\u001b[34m(ink, stroke_width)\u001b[39m\n\u001b[32m    636\u001b[39m \u001b[38;5;28;01mexcept\u001b[39;00m \u001b[38;5;167;01mAttributeError\u001b[39;00m:\n\u001b[32m    637\u001b[39m     \u001b[38;5;28;01mtry\u001b[39;00m:\n\u001b[32m--> \u001b[39m\u001b[32m638\u001b[39m         mask = \u001b[43mfont\u001b[49m\u001b[43m.\u001b[49m\u001b[43mgetmask\u001b[49m(  \u001b[38;5;66;03m# type: ignore[misc]\u001b[39;00m\n\u001b[32m    639\u001b[39m             text,\n\u001b[32m    640\u001b[39m             mode,\n\u001b[32m    641\u001b[39m             direction,\n\u001b[32m    642\u001b[39m             features,\n\u001b[32m    643\u001b[39m             language,\n\u001b[32m    644\u001b[39m             stroke_width,\n\u001b[32m    645\u001b[39m             anchor,\n\u001b[32m    646\u001b[39m             ink,\n\u001b[32m    647\u001b[39m             start=start,\n\u001b[32m    648\u001b[39m             *args,\n\u001b[32m    649\u001b[39m             **kwargs,\n\u001b[32m    650\u001b[39m         )\n\u001b[32m    651\u001b[39m     \u001b[38;5;28;01mexcept\u001b[39;00m \u001b[38;5;167;01mTypeError\u001b[39;00m:\n\u001b[32m    652\u001b[39m         mask = font.getmask(text)\n",
      "\u001b[31mAttributeError\u001b[39m: 'str' object has no attribute 'getmask'"
     ]
    }
   ],
   "source": [
    "draw_name_box(\n",
    "    1,\n",
    "    names_df.iloc[0][\"name\"],\n",
    "    names_df.iloc[0][\"kana\"],\n",
    "    [100, 100, 300, 200],\n",
    "    out_color=\"black\"\n",
    ")\n",
    "plt.imshow(img)"
   ]
  },
  {
   "cell_type": "code",
   "execution_count": null,
   "id": "1f165230",
   "metadata": {},
   "outputs": [],
   "source": []
  }
 ],
 "metadata": {
  "kernelspec": {
   "display_name": ".venv",
   "language": "python",
   "name": "python3"
  },
  "language_info": {
   "codemirror_mode": {
    "name": "ipython",
    "version": 3
   },
   "file_extension": ".py",
   "mimetype": "text/x-python",
   "name": "python",
   "nbconvert_exporter": "python",
   "pygments_lexer": "ipython3",
   "version": "3.12.10"
  }
 },
 "nbformat": 4,
 "nbformat_minor": 5
}
